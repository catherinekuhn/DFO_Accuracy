{
 "cells": [
  {
   "cell_type": "markdown",
   "metadata": {},
   "source": [
    "# Global Flood Database Sampling Accuracies"
   ]
  },
  {
   "cell_type": "code",
   "execution_count": 28,
   "metadata": {},
   "outputs": [],
   "source": [
    "import pandas as pd\n",
    "from pandas import DataFrame\n",
    "import numpy as np\n",
    "import os\n",
    "import glob\n",
    "import datetime\n",
    "#import pylabb\n",
    "import matplotlib as plt\n",
    "import datetime as datetime  \n",
    "import statsmodels.api as sm  \n",
    "import matplotlib.pyplot as plt\n",
    "import seaborn as sns\n",
    "import random\n"
   ]
  },
  {
   "cell_type": "code",
   "execution_count": 29,
   "metadata": {
    "collapsed": true
   },
   "outputs": [],
   "source": [
    "%matplotlib inline"
   ]
  },
  {
   "cell_type": "code",
   "execution_count": 30,
   "metadata": {},
   "outputs": [],
   "source": [
    "#df = pd.read_csv('/Users/ckuhn/Documents/Coauthor/DFO_Accuracy/student_data/all_student_data.csv', low_memory=False)\n",
    "df = pd.read_csv('/Users/ckuhn/Desktop/gfd_accuracy_rename/all_student_data.csv', low_memory=False)"
   ]
  },
  {
   "cell_type": "code",
   "execution_count": 31,
   "metadata": {},
   "outputs": [
    {
     "data": {
      "text/html": [
       "<div>\n",
       "<style>\n",
       "    .dataframe thead tr:only-child th {\n",
       "        text-align: right;\n",
       "    }\n",
       "\n",
       "    .dataframe thead th {\n",
       "        text-align: left;\n",
       "    }\n",
       "\n",
       "    .dataframe tbody tr th {\n",
       "        vertical-align: top;\n",
       "    }\n",
       "</style>\n",
       "<table border=\"1\" class=\"dataframe\">\n",
       "  <thead>\n",
       "    <tr style=\"text-align: right;\">\n",
       "      <th></th>\n",
       "      <th>Unnamed: 0</th>\n",
       "      <th>B1</th>\n",
       "      <th>B2</th>\n",
       "      <th>B3</th>\n",
       "      <th>B4</th>\n",
       "      <th>B5</th>\n",
       "      <th>B7</th>\n",
       "      <th>MNDWI</th>\n",
       "      <th>NDVI</th>\n",
       "      <th>analyst</th>\n",
       "      <th>date</th>\n",
       "      <th>dfoID</th>\n",
       "      <th>id</th>\n",
       "      <th>lat</th>\n",
       "      <th>lon</th>\n",
       "      <th>random</th>\n",
       "      <th>strata</th>\n",
       "      <th>validation</th>\n",
       "      <th>score</th>\n",
       "    </tr>\n",
       "  </thead>\n",
       "  <tbody>\n",
       "    <tr>\n",
       "      <th>0</th>\n",
       "      <td>0</td>\n",
       "      <td>408.413014</td>\n",
       "      <td>568.694058</td>\n",
       "      <td>460.692907</td>\n",
       "      <td>2364.987499</td>\n",
       "      <td>1356.32336</td>\n",
       "      <td>676.680458</td>\n",
       "      <td>-0.610643</td>\n",
       "      <td>0.672432</td>\n",
       "      <td>SiL</td>\n",
       "      <td>08/15/2018</td>\n",
       "      <td>2570</td>\n",
       "      <td>0</td>\n",
       "      <td>22.68277</td>\n",
       "      <td>87.928441</td>\n",
       "      <td>0.308501</td>\n",
       "      <td>0</td>\n",
       "      <td>0.0</td>\n",
       "      <td>0.0</td>\n",
       "    </tr>\n",
       "  </tbody>\n",
       "</table>\n",
       "</div>"
      ],
      "text/plain": [
       "   Unnamed: 0          B1          B2          B3           B4          B5  \\\n",
       "0           0  408.413014  568.694058  460.692907  2364.987499  1356.32336   \n",
       "\n",
       "           B7     MNDWI      NDVI analyst        date dfoID  id       lat  \\\n",
       "0  676.680458 -0.610643  0.672432     SiL  08/15/2018  2570   0  22.68277   \n",
       "\n",
       "         lon    random  strata  validation  score  \n",
       "0  87.928441  0.308501       0         0.0    0.0  "
      ]
     },
     "execution_count": 31,
     "metadata": {},
     "output_type": "execute_result"
    }
   ],
   "source": [
    "raw = df.copy()\n",
    "raw.head(1)"
   ]
  },
  {
   "cell_type": "code",
   "execution_count": 32,
   "metadata": {},
   "outputs": [
    {
     "data": {
      "text/plain": [
       "Index([u'Unnamed: 0', u'B1', u'B2', u'B3', u'B4', u'B5', u'B7', u'MNDWI',\n",
       "       u'NDVI', u'analyst', u'date', u'dfoID', u'id', u'lat', u'lon',\n",
       "       u'random', u'strata', u'validation', u'score'],\n",
       "      dtype='object')"
      ]
     },
     "execution_count": 32,
     "metadata": {},
     "output_type": "execute_result"
    }
   ],
   "source": [
    "raw.columns"
   ]
  },
  {
   "cell_type": "code",
   "execution_count": 33,
   "metadata": {},
   "outputs": [],
   "source": [
    "#list(set(raw.dfoID))"
   ]
  },
  {
   "cell_type": "code",
   "execution_count": 34,
   "metadata": {},
   "outputs": [],
   "source": [
    "#raw.groupby(['dfoID'])['strata'].count()"
   ]
  },
  {
   "cell_type": "code",
   "execution_count": 35,
   "metadata": {},
   "outputs": [
    {
     "data": {
      "text/plain": [
       "strata\n",
       "0    4469\n",
       "2    4504\n",
       "4    9558\n",
       "Name: dfoID, dtype: int64"
      ]
     },
     "execution_count": 35,
     "metadata": {},
     "output_type": "execute_result"
    }
   ],
   "source": [
    "raw.groupby(['strata'])['dfoID'].count()\n",
    "# strata = 0 = dry, 1 = permanent water, 2 = flood"
   ]
  },
  {
   "cell_type": "code",
   "execution_count": 36,
   "metadata": {},
   "outputs": [
    {
     "data": {
      "text/plain": [
       "validation\n",
       "0.0     7365\n",
       "1.0    11166\n",
       "Name: dfoID, dtype: int64"
      ]
     },
     "execution_count": 36,
     "metadata": {},
     "output_type": "execute_result"
    }
   ],
   "source": [
    "raw.groupby(['validation'])['dfoID'].count()\n",
    "## about 266 -99 values"
   ]
  },
  {
   "cell_type": "markdown",
   "metadata": {},
   "source": [
    "### This is to drop floods with not enough points for the test"
   ]
  },
  {
   "cell_type": "code",
   "execution_count": 37,
   "metadata": {},
   "outputs": [
    {
     "data": {
      "text/plain": [
       "<matplotlib.axes._subplots.AxesSubplot at 0x112115a90>"
      ]
     },
     "execution_count": 37,
     "metadata": {},
     "output_type": "execute_result"
    },
    {
     "data": {
      "image/png": "[encoded data removed]",
      "text/plain": [
       "<matplotlib.figure.Figure at 0x115b2a490>"
      ]
     },
     "metadata": {},
     "output_type": "display_data"
    }
   ],
   "source": [
    "raw.groupby(['dfoID'])['score'].count().plot(kind='bar')"
   ]
  },
  {
   "cell_type": "code",
   "execution_count": 42,
   "metadata": {},
   "outputs": [
    {
     "data": {
      "text/plain": [
       "array(['2570', '4314', '2586', '4098', '4315', '3218', '4507', '2443',\n",
       "       'SiL', '3123', '2599', '4346', '2688', '4211', '4516', '4188',\n",
       "       '4258', '4171', '4435', '4022', '2332', '2345', '4159', '3754',\n",
       "       '3871', '2832', '2829', '4427', '3267', '4226', '4241', '2948',\n",
       "       '3667', '2444', '3132', '4218', '2711', '2458', '4364', '2584',\n",
       "       '2216', '3162', '2543', '2473', '2821', '3850', '3916', '2947',\n",
       "       '3977', '4115', '4024', '4464', '3931', '3657', '2629', '4340',\n",
       "       '4163', '2269', '4325', '3070'], dtype=object)"
      ]
     },
     "execution_count": 42,
     "metadata": {},
     "output_type": "execute_result"
    }
   ],
   "source": [
    "raw2 = raw.groupby('dfoID').filter(lambda g: g.dfoID.count() > 200)\n",
    "raw2.dfoID.unique()"
   ]
  },
  {
   "cell_type": "code",
   "execution_count": 41,
   "metadata": {},
   "outputs": [
    {
     "data": {
      "text/plain": [
       "array(['4272', '2780', '2940', '2640'], dtype=object)"
      ]
     },
     "execution_count": 41,
     "metadata": {},
     "output_type": "execute_result"
    }
   ],
   "source": [
    "# These are the ones we are going to drop \n",
    "raw3 = raw.groupby('dfoID').filter(lambda g: g.dfoID.count() < 200)\n",
    "raw3.dfoID.unique()\n",
    "\n",
    "# From the first round of classifications\n",
    "#raw = raw[raw.dfoID != 4507]\n",
    "#raw = raw[raw.dfoID != 2586]"
   ]
  },
  {
   "cell_type": "markdown",
   "metadata": {},
   "source": [
    "### Loopin'!"
   ]
  },
  {
   "cell_type": "code",
   "execution_count": 52,
   "metadata": {
    "scrolled": false
   },
   "outputs": [],
   "source": [
    "floods = list(set(raw2.dfoID)) ## Get a list of all the unique values of floods\n",
    "sampling_levels = np.arange(0, 200, 1)\n",
    "\n",
    "col_names =  ['Flood','NumofPoints', 'tp', 'tn','fp','fn',\n",
    "             'precision','recall','overall_accuracy',\n",
    "             'commission','omission'] ### Column names for making data frames for each flood\n",
    "\n",
    "my_df  = pd.DataFrame(columns = col_names)## Make empty data frame to put values for each sampling level in\n",
    "\n",
    "for i in floods:  ### Loop through floods\n",
    "    df_full = raw.loc[raw['dfoID']== i] ### subset data frame by single flood\n",
    "    for j in sampling_levels: ## Loop through sampling levels\n",
    "        df = df_full.sample(j) ##Apparently pandas has a built-in dataframe random sampler!\n",
    "        tp = float(len(df.loc[df['score']== 5])) \n",
    "        tn = float(len(df.loc[df['score']== 0]))\n",
    "        fp = float(len(df.loc[df['score']== 4]))\n",
    "        fn = float(len(df.loc[df['score']== 1]))\n",
    "        ### Calculating values!\n",
    "        if tp == 0: ###Hmm, sometimes there are no tp scores, so you get a zero divide error\n",
    "            continue ###I've put this in for now but it's gonna bite your butt eventually\n",
    "        precision = tp / (tp + fp)\n",
    "        recall  = tp / (tp + fn)  # % of flooded pixels it ID'ed correctly\n",
    "        accuracy = (tn + tp) / (tn+tp+fp+fn)\n",
    "        commission = fp / (tp + fp)  # modeled positives over all true positives\n",
    "        omission = fn / (tp + fn)\n",
    "        ##add a new row to the dataframe based on this sampling level!\n",
    "        my_df.loc[len(my_df)] = [i,j, tp, tn, fp, fn, precision, recall, accuracy, commission, omission]\n",
    "\n",
    "        ###Now you should have a full dataframe with all your sampling levels for each flood\n",
    "        ###SO\n",
    "#my_df.to_csv('myprecious.csv', encoding='utf-8')"
   ]
  },
  {
   "cell_type": "markdown",
   "metadata": {},
   "source": [
    "http://www.harrisgeospatial.com/docs/CalculatingConfusionMatrices.html "
   ]
  },
  {
   "cell_type": "code",
   "execution_count": 44,
   "metadata": {},
   "outputs": [
    {
     "data": {
      "text/html": [
       "<div>\n",
       "<style>\n",
       "    .dataframe thead tr:only-child th {\n",
       "        text-align: right;\n",
       "    }\n",
       "\n",
       "    .dataframe thead th {\n",
       "        text-align: left;\n",
       "    }\n",
       "\n",
       "    .dataframe tbody tr th {\n",
       "        vertical-align: top;\n",
       "    }\n",
       "</style>\n",
       "<table border=\"1\" class=\"dataframe\">\n",
       "  <thead>\n",
       "    <tr style=\"text-align: right;\">\n",
       "      <th></th>\n",
       "      <th>Flood</th>\n",
       "      <th>NumofPoints</th>\n",
       "      <th>tp</th>\n",
       "      <th>tn</th>\n",
       "      <th>fp</th>\n",
       "      <th>fn</th>\n",
       "      <th>precision</th>\n",
       "      <th>recall</th>\n",
       "      <th>overall_accuracy</th>\n",
       "      <th>commission</th>\n",
       "      <th>omission</th>\n",
       "    </tr>\n",
       "  </thead>\n",
       "  <tbody>\n",
       "    <tr>\n",
       "      <th>0</th>\n",
       "      <td>3931</td>\n",
       "      <td>2</td>\n",
       "      <td>2.0</td>\n",
       "      <td>0.0</td>\n",
       "      <td>0.0</td>\n",
       "      <td>0.0</td>\n",
       "      <td>1.0</td>\n",
       "      <td>1.0</td>\n",
       "      <td>1.0</td>\n",
       "      <td>0.0</td>\n",
       "      <td>0.0</td>\n",
       "    </tr>\n",
       "  </tbody>\n",
       "</table>\n",
       "</div>"
      ],
      "text/plain": [
       "  Flood NumofPoints   tp   tn   fp   fn  precision  recall  overall_accuracy  \\\n",
       "0  3931           2  2.0  0.0  0.0  0.0        1.0     1.0               1.0   \n",
       "\n",
       "   commission  omission  \n",
       "0         0.0       0.0  "
      ]
     },
     "execution_count": 44,
     "metadata": {},
     "output_type": "execute_result"
    }
   ],
   "source": [
    "my_df.head(1)"
   ]
  },
  {
   "cell_type": "code",
   "execution_count": 45,
   "metadata": {},
   "outputs": [
    {
     "name": "stdout",
     "output_type": "stream",
     "text": [
      "0.242684011257\n",
      "0.0195169601737\n",
      "0.821408116448\n"
     ]
    }
   ],
   "source": [
    "print(my_df.commission.mean())\n",
    "print(my_df.omission.mean())\n",
    "print(my_df.overall_accuracy.mean())"
   ]
  },
  {
   "cell_type": "code",
   "execution_count": 46,
   "metadata": {},
   "outputs": [
    {
     "data": {
      "text/plain": [
       "11752"
      ]
     },
     "execution_count": 46,
     "metadata": {},
     "output_type": "execute_result"
    }
   ],
   "source": [
    "len(my_df)"
   ]
  },
  {
   "cell_type": "code",
   "execution_count": 47,
   "metadata": {},
   "outputs": [
    {
     "data": {
      "text/plain": [
       "60"
      ]
     },
     "execution_count": 47,
     "metadata": {},
     "output_type": "execute_result"
    }
   ],
   "source": [
    "len(my_df.Flood.unique())"
   ]
  },
  {
   "cell_type": "code",
   "execution_count": 49,
   "metadata": {},
   "outputs": [
    {
     "name": "stdout",
     "output_type": "stream",
     "text": [
      "count    0.0\n",
      "mean     NaN\n",
      "std      NaN\n",
      "min      NaN\n",
      "25%      NaN\n",
      "50%      NaN\n",
      "75%      NaN\n",
      "max      NaN\n",
      "Name: overall_accuracy, dtype: float64\n"
     ]
    }
   ],
   "source": [
    "right = my_df.loc[my_df['NumofPoints'] == 199]\n",
    "print(right['overall_accuracy'].describe())"
   ]
  },
  {
   "cell_type": "code",
   "execution_count": 50,
   "metadata": {},
   "outputs": [
    {
     "data": {
      "text/html": [
       "<div>\n",
       "<style>\n",
       "    .dataframe thead tr:only-child th {\n",
       "        text-align: right;\n",
       "    }\n",
       "\n",
       "    .dataframe thead th {\n",
       "        text-align: left;\n",
       "    }\n",
       "\n",
       "    .dataframe tbody tr th {\n",
       "        vertical-align: top;\n",
       "    }\n",
       "</style>\n",
       "<table border=\"1\" class=\"dataframe\">\n",
       "  <thead>\n",
       "    <tr style=\"text-align: right;\">\n",
       "      <th></th>\n",
       "      <th>Flood</th>\n",
       "      <th>NumofPoints</th>\n",
       "      <th>tp</th>\n",
       "      <th>tn</th>\n",
       "      <th>fp</th>\n",
       "      <th>fn</th>\n",
       "      <th>precision</th>\n",
       "      <th>recall</th>\n",
       "      <th>overall_accuracy</th>\n",
       "      <th>commission</th>\n",
       "      <th>omission</th>\n",
       "    </tr>\n",
       "  </thead>\n",
       "  <tbody>\n",
       "  </tbody>\n",
       "</table>\n",
       "</div>"
      ],
      "text/plain": [
       "Empty DataFrame\n",
       "Columns: [Flood, NumofPoints, tp, tn, fp, fn, precision, recall, overall_accuracy, commission, omission]\n",
       "Index: []"
      ]
     },
     "execution_count": 50,
     "metadata": {},
     "output_type": "execute_result"
    }
   ],
   "source": [
    "right.head(1)"
   ]
  },
  {
   "cell_type": "code",
   "execution_count": 51,
   "metadata": {
    "collapsed": true
   },
   "outputs": [],
   "source": [
    "def set_style():\n",
    "    plt.style.use(['seaborn-white', 'seaborn-talk'])\n",
    "    plt.rc(\"font\", family=\"Times New Roman\", size = 30)\n",
    "    plt.rc('xtick', labelsize=30) \n",
    "    plt.rc('ytick', labelsize=30) \n",
    "    plt.rc({'axes.titlesize': 'large'})\n",
    "set_style()  "
   ]
  },
  {
   "cell_type": "code",
   "execution_count": null,
   "metadata": {},
   "outputs": [],
   "source": [
    "my_df.groupby(['NumofPoints'])['overall_accuracy'].mean().plot(label='Overall Accuracy')\n",
    "\n",
    "plt.xlabel('Number of Points', fontsize=30)\n",
    "\n",
    "my_df.groupby(['NumofPoints'])['precision'].mean().plot(label='Precision')\n",
    "plt.xlabel('Number of Points', fontsize=30)\n",
    "\n",
    "my_df.groupby(['NumofPoints'])['recall'].mean().plot(label='Recall')\n",
    "plt.xlabel('Number of Points', fontsize=30)\n",
    "plt.ylabel ('Score', fontsize=40)\n",
    "plt.legend(title=\"Metric\")\n",
    "\n",
    "plt.ylim(0,1.1)\n",
    "plt.xlim(0,400)\n",
    "\n",
    "#%cd /Users/ckuhn/Documents/Coauthor/DFO_Accuracy/figures/\n",
    "#plt.savefig('point_test_accuracy_n10.png', dpi = 300)"
   ]
  },
  {
   "cell_type": "code",
   "execution_count": null,
   "metadata": {},
   "outputs": [],
   "source": [
    "my_df.groupby(['NumofPoints'])['overall_accuracy'].mean().plot(label='Overall Accuracy')\n",
    "my_df.groupby(['NumofPoints'])['commission'].mean().plot(label='Errors of Commission')\n",
    "my_df.groupby(['NumofPoints'])['omission'].mean().plot(label='Errors of Omission')\n",
    "\n",
    "plt.xlabel('Number of Points', fontsize=30)\n",
    "plt.ylabel ('Score', fontsize=40)\n",
    "plt.legend(title=\"Metric\")\n",
    "\n",
    "plt.ylim(0,1.1)"
   ]
  },
  {
   "cell_type": "markdown",
   "metadata": {},
   "source": [
    "# Plots by DFO ID"
   ]
  },
  {
   "cell_type": "code",
   "execution_count": null,
   "metadata": {},
   "outputs": [],
   "source": [
    "def set_style():\n",
    "    plt.style.use(['seaborn-white', 'seaborn-talk'])\n",
    "    plt.rc(\"font\", family=\"Times New Roman\", size = 30)\n",
    "    plt.rc('xtick', labelsize=30) \n",
    "    plt.rc('ytick', labelsize=30) \n",
    "    plt.rc({'axes.titlesize': 'large'})\n",
    "set_style()  \n",
    "\n",
    "groups = my_df.groupby('Flood')\n",
    "\n",
    "# Plot\n",
    "fig, ax = plt.subplots()\n",
    "ax.margins(0.05) # Optional, just adds 5% padding to the autoscaling\n",
    "for name, group in groups:\n",
    "    ax.plot(group['NumofPoints'], group['overall_accuracy'], marker='o', linestyle='--', ms=12, label=name)\n",
    "\n",
    "ax.legend(title=\"DFO ID\", loc='upper left', bbox_to_anchor=(1, 1),\n",
    "          ncol=1, fancybox=True, shadow=True)\n",
    "\n",
    "plt.ylim(0,1.1)\n",
    "plt.xlabel('Number of Points', fontsize=30)\n",
    "plt.ylabel('Overall Accuracy (%)', fontsize=30)\n",
    "plt.tight_layout()\n",
    "\n",
    "plt.show()\n",
    "\n",
    "#%cd /Users/ckuhn/Documents/Coauthor/DFO_Accuracy\n",
    "#plt.savefig('point_test_overallacc_subsetFloods.png', dpi = 300)"
   ]
  },
  {
   "cell_type": "code",
   "execution_count": null,
   "metadata": {},
   "outputs": [],
   "source": [
    "groups = my_df.groupby('Flood')\n",
    "\n",
    "# Plot\n",
    "fig, ax = plt.subplots()\n",
    "ax.margins(0.05) # Optional, just adds 5% padding to the autoscaling\n",
    "for name, group in groups:\n",
    "    ax.plot(group['NumofPoints'], group['precision'], marker='o', linestyle='--', ms=8, label=name)\n",
    "\n",
    "ax.legend(title=\"DFO ID\", loc='upper left', bbox_to_anchor=(1, 1),\n",
    "          ncol=1, fancybox=True, shadow=True)\n",
    "\n",
    "plt.ylim(0,1.1)\n",
    "plt.xlabel('Number of Points', fontsize=30)\n",
    "plt.ylabel('Precision', fontsize=30)\n",
    "plt.tight_layout()\n",
    "\n",
    "plt.show()\n",
    "\n",
    "#%cd /Users/ckuhn/Documents/Coauthor/DFO_Accuracy\n",
    "#plt.savefig('point_test_precision_subsetFloods.png', dpi = 300)"
   ]
  },
  {
   "cell_type": "code",
   "execution_count": null,
   "metadata": {},
   "outputs": [],
   "source": [
    "groups = my_df.groupby('Flood')\n",
    "\n",
    "# Plot\n",
    "fig, ax = plt.subplots()\n",
    "ax.margins(0.05) # Optional, just adds 5% padding to the autoscaling\n",
    "for name, group in groups:\n",
    "    ax.plot(group['NumofPoints'], group['recall'], marker='o', linestyle='--', ms=8, label=name)\n",
    "\n",
    "ax.legend(title=\"DFO ID\", loc='upper left', bbox_to_anchor=(1, 1),\n",
    "          ncol=1, fancybox=True, shadow=True)\n",
    "\n",
    "plt.ylim(0,1.1)\n",
    "plt.xlabel('Number of Points', fontsize=30)\n",
    "plt.ylabel('Recall', fontsize=30)\n",
    "plt.tight_layout()\n",
    "\n",
    "plt.show()\n",
    "\n",
    "#%cd /Users/ckuhn/Documents/Coauthor/DFO_Accuracy\n",
    "#plt.savefig('point_test_recall_subsetFloods.png', dpi = 300)"
   ]
  },
  {
   "cell_type": "code",
   "execution_count": null,
   "metadata": {
    "collapsed": true
   },
   "outputs": [],
   "source": []
  }
 ],
 "metadata": {
  "kernelspec": {
   "display_name": "Python [conda root]",
   "language": "python",
   "name": "conda-root-py"
  },
  "language_info": {
   "codemirror_mode": {
    "name": "ipython",
    "version": 2
   },
   "file_extension": ".py",
   "mimetype": "text/x-python",
   "name": "python",
   "nbconvert_exporter": "python",
   "pygments_lexer": "ipython2",
   "version": "2.7.13"
  }
 },
 "nbformat": 4,
 "nbformat_minor": 2
}
