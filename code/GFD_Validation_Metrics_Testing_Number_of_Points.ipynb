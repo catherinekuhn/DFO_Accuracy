{
 "cells": [
  {
   "cell_type": "markdown",
   "metadata": {},
   "source": [
    "# Global Flood Database Accuracy \n",
    "Written in Python 2"
   ]
  },
  {
   "cell_type": "markdown",
   "metadata": {},
   "source": [
    "### WARNING: THis code is built to do one flood at a time. See GFD_Validation_Metrics_Testing_Number_of_Points_2.ipynb to see the same thing built in a loop to accept many floods"
   ]
  },
  {
   "cell_type": "code",
   "execution_count": 1,
   "metadata": {},
   "outputs": [
    {
     "name": "stderr",
     "output_type": "stream",
     "text": [
      "/Users/ckuhn/anaconda2/envs/vectorenv/lib/python3.6/site-packages/statsmodels/compat/pandas.py:56: FutureWarning: The pandas.core.datetools module is deprecated and will be removed in a future version. Please use the pandas.tseries module instead.\n",
      "  from pandas.core import datetools\n"
     ]
    }
   ],
   "source": [
    "# This notebook was built in Catherine's vectorenv\n",
    "import pandas as pd\n",
    "from pandas import DataFrame\n",
    "import numpy as np\n",
    "import os\n",
    "import glob\n",
    "import datetime\n",
    "#import pylabb\n",
    "import matplotlib as plt\n",
    "import datetime as datetime  \n",
    "import statsmodels.api as sm  \n",
    "import matplotlib.pyplot as plt\n",
    "import seaborn as sns\n",
    "# plt.style.use('ggplot')"
   ]
  },
  {
   "cell_type": "code",
   "execution_count": 2,
   "metadata": {
    "collapsed": true
   },
   "outputs": [],
   "source": [
    "%matplotlib inline"
   ]
  },
  {
   "cell_type": "code",
   "execution_count": 3,
   "metadata": {
    "collapsed": true
   },
   "outputs": [],
   "source": [
    "df = pd.read_csv('/Users/ckuhn/Documents/Coauthor/DFO_Accuracy/student_data/all_student_data.csv', low_memory=False)"
   ]
  },
  {
   "cell_type": "markdown",
   "metadata": {},
   "source": [
    "## Preview the data"
   ]
  },
  {
   "cell_type": "code",
   "execution_count": 4,
   "metadata": {},
   "outputs": [
    {
     "data": {
      "text/html": [
       "<div>\n",
       "<style scoped>\n",
       "    .dataframe tbody tr th:only-of-type {\n",
       "        vertical-align: middle;\n",
       "    }\n",
       "\n",
       "    .dataframe tbody tr th {\n",
       "        vertical-align: top;\n",
       "    }\n",
       "\n",
       "    .dataframe thead th {\n",
       "        text-align: right;\n",
       "    }\n",
       "</style>\n",
       "<table border=\"1\" class=\"dataframe\">\n",
       "  <thead>\n",
       "    <tr style=\"text-align: right;\">\n",
       "      <th></th>\n",
       "      <th>Unnamed: 0</th>\n",
       "      <th>B1</th>\n",
       "      <th>B2</th>\n",
       "      <th>B3</th>\n",
       "      <th>B4</th>\n",
       "      <th>B5</th>\n",
       "      <th>B7</th>\n",
       "      <th>MNDWI</th>\n",
       "      <th>NDVI</th>\n",
       "      <th>analyst</th>\n",
       "      <th>date</th>\n",
       "      <th>dfoID</th>\n",
       "      <th>id</th>\n",
       "      <th>lat</th>\n",
       "      <th>lon</th>\n",
       "      <th>random</th>\n",
       "      <th>strata</th>\n",
       "      <th>validation</th>\n",
       "      <th>score</th>\n",
       "    </tr>\n",
       "  </thead>\n",
       "  <tbody>\n",
       "    <tr>\n",
       "      <th>0</th>\n",
       "      <td>0</td>\n",
       "      <td>675.522719</td>\n",
       "      <td>1128.643606</td>\n",
       "      <td>2015.265677</td>\n",
       "      <td>2436.991734</td>\n",
       "      <td>3702.040962</td>\n",
       "      <td>2753.348602</td>\n",
       "      <td>-0.365915</td>\n",
       "      <td>0.095263</td>\n",
       "      <td>HT</td>\n",
       "      <td>5/10/18</td>\n",
       "      <td>2143</td>\n",
       "      <td>0</td>\n",
       "      <td>-21.762688</td>\n",
       "      <td>123.87866</td>\n",
       "      <td>0.341315</td>\n",
       "      <td>0</td>\n",
       "      <td>0</td>\n",
       "      <td>0</td>\n",
       "    </tr>\n",
       "  </tbody>\n",
       "</table>\n",
       "</div>"
      ],
      "text/plain": [
       "   Unnamed: 0          B1           B2           B3           B4           B5  \\\n",
       "0           0  675.522719  1128.643606  2015.265677  2436.991734  3702.040962   \n",
       "\n",
       "            B7     MNDWI      NDVI analyst     date  dfoID  id        lat  \\\n",
       "0  2753.348602 -0.365915  0.095263      HT  5/10/18   2143   0 -21.762688   \n",
       "\n",
       "         lon    random  strata  validation  score  \n",
       "0  123.87866  0.341315       0           0      0  "
      ]
     },
     "execution_count": 4,
     "metadata": {},
     "output_type": "execute_result"
    }
   ],
   "source": [
    "raw = df.copy()\n",
    "raw.head(1)"
   ]
  },
  {
   "cell_type": "code",
   "execution_count": 5,
   "metadata": {},
   "outputs": [
    {
     "data": {
      "text/plain": [
       "Index(['Unnamed: 0', 'B1', 'B2', 'B3', 'B4', 'B5', 'B7', 'MNDWI', 'NDVI',\n",
       "       'analyst', 'date', 'dfoID', 'id', 'lat', 'lon', 'random', 'strata',\n",
       "       'validation', 'score'],\n",
       "      dtype='object')"
      ]
     },
     "execution_count": 5,
     "metadata": {},
     "output_type": "execute_result"
    }
   ],
   "source": [
    "raw.columns"
   ]
  },
  {
   "cell_type": "markdown",
   "metadata": {},
   "source": [
    "# How does the number of sampling points impact the accuracy? "
   ]
  },
  {
   "cell_type": "markdown",
   "metadata": {},
   "source": [
    "## DEAR ~~GOD~~ ANNA SIMPSON HELP US "
   ]
  },
  {
   "cell_type": "markdown",
   "metadata": {},
   "source": [
    "Here we pick one flood and resample down the number of points from 500 to 10 to see if selecting fewer points gives us a different answer. I am literally manually changing the ID here and re-running this section for each flood. IDeally it would just loop through and do it automatically. "
   ]
  },
  {
   "cell_type": "markdown",
   "metadata": {},
   "source": [
    "**1. Pick one flood to resample**"
   ]
  },
  {
   "cell_type": "code",
   "execution_count": 36,
   "metadata": {},
   "outputs": [
    {
     "data": {
      "text/plain": [
       "count    487.000000\n",
       "mean       0.504903\n",
       "std        0.291063\n",
       "min        0.000354\n",
       "25%        0.262569\n",
       "50%        0.496626\n",
       "75%        0.767999\n",
       "max        0.998288\n",
       "Name: random, dtype: float64"
      ]
     },
     "execution_count": 36,
     "metadata": {},
     "output_type": "execute_result"
    }
   ],
   "source": [
    "df = raw.loc[raw['dfoID']== 2045]\n",
    "df['random'].describe()"
   ]
  },
  {
   "cell_type": "markdown",
   "metadata": {},
   "source": [
    "**2 Resample at different sizes from small to large**"
   ]
  },
  {
   "cell_type": "code",
   "execution_count": 37,
   "metadata": {},
   "outputs": [
    {
     "name": "stdout",
     "output_type": "stream",
     "text": [
      "10\n"
     ]
    },
    {
     "data": {
      "text/plain": [
       "487"
      ]
     },
     "execution_count": 37,
     "metadata": {},
     "output_type": "execute_result"
    }
   ],
   "source": [
    "teeny = df.sort_values('random',ascending = False).head(10)\n",
    "print(len(teeny))\n",
    "small = df.sort_values('random',ascending = False).head(50)\n",
    "len(small)\n",
    "medium = df.sort_values('random',ascending = False).head(100)\n",
    "len(medium)\n",
    "large = df.sort_values('random',ascending = False).head(200)\n",
    "len(large)\n",
    "xlarge = df.sort_values('random',ascending = False)\n",
    "len(xlarge)"
   ]
  },
  {
   "cell_type": "markdown",
   "metadata": {},
   "source": [
    "**3 For each resampled dataframe, calculate the error metrics**"
   ]
  },
  {
   "cell_type": "code",
   "execution_count": 38,
   "metadata": {},
   "outputs": [
    {
     "data": {
      "text/plain": [
       "(2, 3, 1, 0)"
      ]
     },
     "execution_count": 38,
     "metadata": {},
     "output_type": "execute_result"
    }
   ],
   "source": [
    "df = teeny\n",
    "\n",
    "# True positives = they were both labeled flood\n",
    "#Validation (1) + Strata (4)\n",
    "tp0 = len(df.loc[df['score']== 5])\n",
    "\n",
    "# True negative = they were both labeled dry\n",
    "#Validation (0) + Strata (0)\n",
    "tn0 = len(df.loc[df['score']== 0])\n",
    "\n",
    "#Validation (0) + Strata (4)\n",
    "fp0 = len(df.loc[df['score']== 4])\n",
    "\n",
    "#Validation (1) + Strata (0)\n",
    "fn0 = len(df.loc[df['score']== 1])\n",
    "\n",
    "# 3 = STudents labeled it as water (1), it is permanent water (2)\n",
    "# 2 = DFO labeled it as permanent water (2), students said it wasn't water (0)\n",
    "\n",
    "NumofPoints0 = 10\n",
    "prec0  = tp0 / (tp0 + fp0) # Likelihood that pixel labeled flooded was really flooded\n",
    "recall0   = tp0 / (tp0 + fn0)  # % of flooded pixels it ID'ed correctly\n",
    "acc0 = (tn0 + tp0) / (tn0+tp0+fp0+fn0)\n",
    "\n",
    "prod_om_error0 = tp0 / (tp0 + fn0)  #  modeled positives over all true positives\n",
    "cons_com_error0 = tp0 / (tp0 + fp0) #  true modeled positives over all modeled positives\n",
    "\n",
    "tp0 , tn0, fp0, fn0"
   ]
  },
  {
   "cell_type": "code",
   "execution_count": 39,
   "metadata": {
    "collapsed": true
   },
   "outputs": [],
   "source": [
    "df = small \n",
    "\n",
    "#Validation (1) + Strata (4)\n",
    "tp1 = len(df.loc[df['score']== 5])\n",
    "#Validation (0) + Strata (0)\n",
    "tn1 = len(df.loc[df['score']== 0])\n",
    "#Validation (0) + Strata (4)\n",
    "fp1 = len(df.loc[df['score']== 4])\n",
    "#Validation (1) + Strata (0)\n",
    "fn1 = len(df.loc[df['score']== 1])\n",
    "prod_om_error1 = tp1 / (tp1 + fn1) \n",
    "cons_com_error1 = tp1 / (tp1 + fp1) \n",
    "\n",
    "# 3 = STudents labeled it as water (1), it is permanent water (2)\n",
    "# 2 = DFO labeled it as permanent water (2), students said it wasn't water (0)\n",
    "\n",
    "NumofPoints1 = 50\n",
    "prec1  = tp1 / (tp1 + fp1) # Likelihood that pixel labeled flooded was really flooded\n",
    "recall1   = tp1 / (tp1 + fn1)  # % of flooded pixels it ID'ed correctly\n",
    "acc1 = (tn1 + tp1) / (tn1+tp1+fp1+fn1)"
   ]
  },
  {
   "cell_type": "code",
   "execution_count": 40,
   "metadata": {
    "collapsed": true
   },
   "outputs": [],
   "source": [
    "df = medium\n",
    "\n",
    "\n",
    "#Validation (1) + Strata (4)\n",
    "tp2 = len(df.loc[df['score']== 5])\n",
    "#Validation (0) + Strata (0)\n",
    "tn2 = len(df.loc[df['score']== 0])\n",
    "#Validation (0) + Strata (4)\n",
    "fp2 = len(df.loc[df['score']== 4])\n",
    "#Validation (1) + Strata (0)\n",
    "fn2 = len(df.loc[df['score']== 1])\n",
    "# 3 = STudents labeled it as water (1), it is permanent water (2)\n",
    "# 2 = DFO labeled it as permanent water (2), students said it wasn't water (0)\n",
    "NumofPoints2 = 100\n",
    "prec2  = tp2 / (tp2 + fp2) # Likelihood that pixel labeled flooded was really flooded\n",
    "recall2   = tp2 / (tp2 + fn2)  # % of flooded pixels it ID'ed correctly\n",
    "acc2 = (tn2 + tp2) / (tn2+tp2+fp2+fn2)\n",
    "prod_om_error2 = tp2 / (tp2 + fn2) \n",
    "cons_com_error2 = tp2 / (tp2 + fp2) "
   ]
  },
  {
   "cell_type": "code",
   "execution_count": 41,
   "metadata": {
    "collapsed": true
   },
   "outputs": [],
   "source": [
    "df = large\n",
    "\n",
    "#Validation (1) + Strata (4)\n",
    "tp3 = len(df.loc[df['score']== 5])\n",
    "#Validation (0) + Strata (0)\n",
    "tn3 = len(df.loc[df['score']== 0])\n",
    "#Validation (0) + Strata (4)\n",
    "fp3 = len(df.loc[df['score']== 4])\n",
    "#Validation (1) + Strata (0)\n",
    "fn3 = len(df.loc[df['score']== 1])\n",
    "\n",
    "# 3 = STudents labeled it as water (1), it is permanent water (2)\n",
    "# 2 = DFO labeled it as permanent water (2), students said it wasn't water (0)\n",
    "\n",
    "NumofPoints3 = 250\n",
    "prec3  = tp3 / (tp3 + fp3) # Likelihood that pixel labeled flooded was really flooded\n",
    "recall3   = tp3 / (tp3 + fn3)  # % of flooded pixels it ID'ed correctly\n",
    "acc3 = (tn3 + tp3) / (tn3+tp3+fp3+fn3)\n",
    "\n",
    "prod_om_error3 = tp3 / (tp3 + fn3) \n",
    "cons_com_error3 = tp3 / (tp3 + fp3) "
   ]
  },
  {
   "cell_type": "code",
   "execution_count": 42,
   "metadata": {
    "collapsed": true
   },
   "outputs": [],
   "source": [
    "df = xlarge\n",
    "\n",
    "#Validation (1) + Strata (4)\n",
    "tp4 = len(df.loc[df['score']== 5])\n",
    "#Validation (0) + Strata (0)\n",
    "tn4 = len(df.loc[df['score']== 0])\n",
    "#Validation (0) + Strata (4)\n",
    "fp4 = len(df.loc[df['score']== 4])\n",
    "#Validation (1) + Strata (0)\n",
    "fn4 = len(df.loc[df['score']== 1])\n",
    "\n",
    "# 3 = STudents labeled it as water (1), it is permanent water (2)\n",
    "# 2 = DFO labeled it as permanent water (2), students said it wasn't water (0)\n",
    "\n",
    "NumofPoints4 = 500\n",
    "prec4  = tp4 / (tp4 + fp4) # Likelihood that pixel labeled flooded was really flooded\n",
    "recall4   = tp4 / (tp4 + fn4)  # % of flooded pixels it ID'ed correctly\n",
    "acc4 = (tn4 + tp4) / (tn4+tp4+fp4+fn4)\n",
    "prod_om_error4 = tp4 / (tp4 + fn4) \n",
    "cons_com_error4 = tp4 / (tp4 + fp4) \n"
   ]
  },
  {
   "cell_type": "markdown",
   "metadata": {},
   "source": [
    "**4 Now stick them all together into a new dataframe**"
   ]
  },
  {
   "cell_type": "code",
   "execution_count": 43,
   "metadata": {
    "collapsed": true
   },
   "outputs": [],
   "source": [
    "d = {'NumofPoints': [NumofPoints0, NumofPoints1, NumofPoints2,NumofPoints3, NumofPoints4], \n",
    "     'tp': [tp0, tp1,tp2,tp3, tp4], \n",
    "     'tn': [tn0, tn1,tn2,tn3, tn4], \n",
    "     'fp': [fp0, fp1,fp2,fp3, fp4], \n",
    "     'fn': [fn0, fn1,fn2,fn3, fn4], \n",
    "     'precision': [prec0, prec1,prec2,prec3, prec4], \n",
    "     'recall': [recall0, recall1,recall2,recall3, recall4], \n",
    "     'overall_accuracy': [acc0,acc1, acc2, acc3, acc4],\n",
    "    'comission': [prod_om_error0, prod_om_error1, prod_om_error2, \n",
    "                  prod_om_error3, prod_om_error4],\n",
    "     'omission': [cons_com_error0, cons_com_error1, cons_com_error2, \n",
    "                  cons_com_error3, cons_com_error4]}\n",
    "df = pd.DataFrame(data=d)\n",
    "\n",
    "df.to_csv('calculated_data.csv', encoding='utf-8')"
   ]
  },
  {
   "cell_type": "markdown",
   "metadata": {},
   "source": [
    "## RERUN THIS CODE ABOVE LIKE AN IDIOT FOR EACH DIFFERENT FLOOD UNTIL ANNA SAVES YOU AND TEACHES YOU HOW TO PROPERLY WRITE A LOOP!"
   ]
  },
  {
   "cell_type": "code",
   "execution_count": 44,
   "metadata": {
    "collapsed": true
   },
   "outputs": [],
   "source": [
    "# Create an object for each flood by running the above lines of code, swapping out \n",
    "# the flood id each time, until you have created an new df for each of the flood ids\n",
    "\n",
    "#df_2143 = df\n",
    "df_2045 = df\n",
    "#df_2180 = df"
   ]
  },
  {
   "cell_type": "code",
   "execution_count": 45,
   "metadata": {},
   "outputs": [
    {
     "data": {
      "text/plain": [
       "Text(0,0.5,'Overall Accuracy (&)')"
      ]
     },
     "execution_count": 45,
     "metadata": {},
     "output_type": "execute_result"
    },
    {
     "data": {
      "image/png": "[encoded data removed]",
      "text/plain": [
       "<matplotlib.figure.Figure at 0x1c0b7a65f8>"
      ]
     },
     "metadata": {},
     "output_type": "display_data"
    }
   ],
   "source": [
    "def set_style():\n",
    "    plt.style.use(['seaborn-white', 'seaborn-talk'])\n",
    "    plt.rc(\"font\", family=\"Times New Roman\", size = 30)\n",
    "    plt.rc('xtick', labelsize=30) \n",
    "    plt.rc('ytick', labelsize=30) \n",
    "    plt.rc({'axes.titlesize': 'large'})\n",
    "set_style()  \n",
    "\n",
    "\n",
    "\n",
    "x = 10, 50, 100, 250, 500\n",
    "y1 = df_2045['overall_accuracy'].values\n",
    "y2 = df_2180['overall_accuracy'].values\n",
    "y3 = df_2143['overall_accuracy'].values\n",
    "plt.xticks(np.arange(0, 600, step=100))\n",
    "\n",
    "plt.plot(x, y1,color='darkred',marker='o', linestyle='--', label='2045')\n",
    "plt.plot(x, y2,color='blue', marker='o', linestyle='--',label='2180')\n",
    "plt.plot(x, y3, color='green', marker='o', linestyle='--',label='2143')\n",
    "\n",
    "plt.legend(title=\"DFO ID\")\n",
    "plt.xlabel('Number of Points', fontsize=30)\n",
    "plt.ylabel('Overall Accuracy (&)', fontsize=30)\n",
    "\n",
    "\n",
    "#%cd /Users/ckuhn/Documents/DFO_Accuracy/figures\n",
    "#plt.savefig('point_test_overallacc.png', dpi = 300)"
   ]
  },
  {
   "cell_type": "code",
   "execution_count": 46,
   "metadata": {},
   "outputs": [
    {
     "data": {
      "text/plain": [
       "Text(0,0.5,'Precision')"
      ]
     },
     "execution_count": 46,
     "metadata": {},
     "output_type": "execute_result"
    },
    {
     "data": {
      "image/png": "[encoded data removed]",
      "text/plain": [
       "<matplotlib.figure.Figure at 0x1c0b77e320>"
      ]
     },
     "metadata": {},
     "output_type": "display_data"
    }
   ],
   "source": [
    "plt.figure(figsize=(20, 12))\n",
    "\n",
    "plt.subplot(221) \n",
    "\n",
    "x = 10, 50, 100, 250, 500\n",
    "y1 = df_2045['precision'].values\n",
    "y2 = df_2180['precision'].values\n",
    "y3 = df_2143['precision'].values\n",
    "\n",
    "plt.plot(x, y1,color='darkred',marker='o', linestyle='--', label='2045')\n",
    "plt.plot(x, y2,color='blue', marker='o', linestyle='--',label='2180')\n",
    "plt.plot(x, y3, color='green', marker='o', linestyle='--',label='2143')\n",
    "\n",
    "#plt.axvline(x=100, color= 'grey')\n",
    "plt.legend(title=\"DFO ID\", fontsize=14)\n",
    "plt.xlabel('Number of Points',fontsize=30)\n",
    "plt.ylabel('Precision',fontsize=30)\n",
    "#%cd /Users/ckuhn/Documents/DFO_Accuracy/figures\n",
    "#plt.savefig('point_test_precision.png', dpi = 300)\n"
   ]
  },
  {
   "cell_type": "code",
   "execution_count": null,
   "metadata": {
    "collapsed": true
   },
   "outputs": [],
   "source": []
  }
 ],
 "metadata": {
  "kernelspec": {
   "display_name": "Python [conda env:vectorenv]",
   "language": "python",
   "name": "conda-env-vectorenv-py"
  },
  "language_info": {
   "codemirror_mode": {
    "name": "ipython",
    "version": 3
   },
   "file_extension": ".py",
   "mimetype": "text/x-python",
   "name": "python",
   "nbconvert_exporter": "python",
   "pygments_lexer": "ipython3",
   "version": "3.6.4"
  }
 },
 "nbformat": 4,
 "nbformat_minor": 2
}
