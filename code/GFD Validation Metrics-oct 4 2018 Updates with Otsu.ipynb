{
 "cells": [
  {
   "cell_type": "markdown",
   "metadata": {},
   "source": [
    "# Global Flood Validation Metrics Oct 4 2018 Updates\n",
    "Written in Python 2"
   ]
  },
  {
   "cell_type": "code",
   "execution_count": 29,
   "metadata": {},
   "outputs": [],
   "source": [
    "# This notebook was built in Catherine's vectorenv\n",
    "import pandas as pd\n",
    "from pandas import DataFrame\n",
    "import numpy as np\n",
    "import os\n",
    "import glob\n",
    "import datetime\n",
    "#import pylabb\n",
    "import matplotlib as plt\n",
    "import datetime as datetime  \n",
    "import statsmodels.api as sm  \n",
    "import matplotlib.pyplot as plt\n",
    "import seaborn as sns\n",
    "# plt.style.use('ggplot')"
   ]
  },
  {
   "cell_type": "code",
   "execution_count": 30,
   "metadata": {
    "collapsed": true
   },
   "outputs": [],
   "source": [
    "%matplotlib inline"
   ]
  },
  {
   "cell_type": "markdown",
   "metadata": {},
   "source": [
    "# Data Preparation"
   ]
  },
  {
   "cell_type": "code",
   "execution_count": 31,
   "metadata": {},
   "outputs": [
    {
     "name": "stderr",
     "output_type": "stream",
     "text": [
      "/Users/ckuhn/anaconda2/envs/vectorenv/lib/python3.6/site-packages/ipykernel/__main__.py:8: FutureWarning: Sorting because non-concatenation axis is not aligned. A future version\n",
      "of pandas will change to not sort by default.\n",
      "\n",
      "To accept the future behavior, pass 'sort=False'.\n",
      "\n",
      "To retain the current behavior and silence the warning, pass 'sort=True'.\n",
      "\n"
     ]
    }
   ],
   "source": [
    "path =r'/Users/ckuhn/Downloads/gfd_val/' # use your path\n",
    "allFiles = glob.glob(path + \"/*.csv\")\n",
    "df = pd.DataFrame()\n",
    "list_ = []\n",
    "for file_ in allFiles:\n",
    "    df = pd.read_csv(file_,index_col=None, header=0, low_memory=False)\n",
    "    list_.append(df)\n",
    "df = pd.concat(list_)\n",
    "df = df.drop(['system:index','.geo'], axis=1)"
   ]
  },
  {
   "cell_type": "markdown",
   "metadata": {},
   "source": [
    "**Validation** = student classification  \n",
    "**Strata** = DFO classification \n",
    "\n",
    "The student classifiations were dividing into dry (0) and water (1). \n",
    "\n",
    "The model points were stratified into three classes or strata. They are 50% not flooded (permanent water + dry) and 50% flooded. \n",
    "- not flooded/dry (0)\n",
    "- permanent water (1)\n",
    "- flooded (2)"
   ]
  },
  {
   "cell_type": "code",
   "execution_count": 32,
   "metadata": {},
   "outputs": [
    {
     "name": "stdout",
     "output_type": "stream",
     "text": [
      "no. of unique floods: 123\n",
      "method\n",
      "otsu_2day    34141\n",
      "otsu_3day    34141\n",
      "std_2day     34141\n",
      "std_3day     34141\n",
      "Name: dfoID, dtype: int64\n"
     ]
    },
    {
     "data": {
      "text/html": [
       "<div>\n",
       "<style scoped>\n",
       "    .dataframe tbody tr th:only-of-type {\n",
       "        vertical-align: middle;\n",
       "    }\n",
       "\n",
       "    .dataframe tbody tr th {\n",
       "        vertical-align: top;\n",
       "    }\n",
       "\n",
       "    .dataframe thead th {\n",
       "        text-align: right;\n",
       "    }\n",
       "</style>\n",
       "<table border=\"1\" class=\"dataframe\">\n",
       "  <thead>\n",
       "    <tr style=\"text-align: right;\">\n",
       "      <th></th>\n",
       "      <th>B1</th>\n",
       "      <th>B2</th>\n",
       "      <th>B3</th>\n",
       "      <th>B4</th>\n",
       "      <th>B5</th>\n",
       "      <th>B7</th>\n",
       "      <th>MNDWI</th>\n",
       "      <th>NDVI</th>\n",
       "      <th>analyst</th>\n",
       "      <th>date</th>\n",
       "      <th>...</th>\n",
       "      <th>lon</th>\n",
       "      <th>method</th>\n",
       "      <th>model_score</th>\n",
       "      <th>pixel_lat</th>\n",
       "      <th>pixel_lon</th>\n",
       "      <th>point_lat</th>\n",
       "      <th>point_lon</th>\n",
       "      <th>random</th>\n",
       "      <th>strata</th>\n",
       "      <th>validation</th>\n",
       "    </tr>\n",
       "  </thead>\n",
       "  <tbody>\n",
       "    <tr>\n",
       "      <th>0</th>\n",
       "      <td>792.15651</td>\n",
       "      <td>896.579047</td>\n",
       "      <td>761.223987</td>\n",
       "      <td>1833.576595</td>\n",
       "      <td>980.842213</td>\n",
       "      <td>516.20095</td>\n",
       "      <td>-0.338543</td>\n",
       "      <td>0.408565</td>\n",
       "      <td>SiL</td>\n",
       "      <td>1.530000e+12</td>\n",
       "      <td>...</td>\n",
       "      <td>87.277107</td>\n",
       "      <td>otsu_2day</td>\n",
       "      <td>0.0</td>\n",
       "      <td>25.681778</td>\n",
       "      <td>87.277107</td>\n",
       "      <td>25.681778</td>\n",
       "      <td>87.277107</td>\n",
       "      <td>0.853473</td>\n",
       "      <td>0.0</td>\n",
       "      <td>0.0</td>\n",
       "    </tr>\n",
       "  </tbody>\n",
       "</table>\n",
       "<p>1 rows × 22 columns</p>\n",
       "</div>"
      ],
      "text/plain": [
       "          B1          B2          B3           B4          B5         B7  \\\n",
       "0  792.15651  896.579047  761.223987  1833.576595  980.842213  516.20095   \n",
       "\n",
       "      MNDWI      NDVI analyst          date     ...            lon     method  \\\n",
       "0 -0.338543  0.408565     SiL  1.530000e+12     ...      87.277107  otsu_2day   \n",
       "\n",
       "   model_score  pixel_lat  pixel_lon  point_lat  point_lon    random  strata  \\\n",
       "0          0.0  25.681778  87.277107  25.681778  87.277107  0.853473     0.0   \n",
       "\n",
       "   validation  \n",
       "0         0.0  \n",
       "\n",
       "[1 rows x 22 columns]"
      ]
     },
     "execution_count": 32,
     "metadata": {},
     "output_type": "execute_result"
    }
   ],
   "source": [
    "print('no. of unique floods:', len(df['dfoID'].unique()))\n",
    "print(df.groupby(['method'])['dfoID'].count())\n",
    "df.head(1)"
   ]
  },
  {
   "cell_type": "markdown",
   "metadata": {},
   "source": [
    "## Cleaning"
   ]
  },
  {
   "cell_type": "markdown",
   "metadata": {},
   "source": [
    "#### Drop floods with few points"
   ]
  },
  {
   "cell_type": "code",
   "execution_count": 35,
   "metadata": {
    "collapsed": true
   },
   "outputs": [],
   "source": [
    "#p= df.groupby('dfoID').filter(lambda g: g.dfoID.count() <= 250)"
   ]
  },
  {
   "cell_type": "markdown",
   "metadata": {},
   "source": [
    "#### Drop NA points"
   ]
  },
  {
   "cell_type": "code",
   "execution_count": 36,
   "metadata": {
    "collapsed": true
   },
   "outputs": [],
   "source": [
    "# Pixels got labeled \"NAN\" were coded as either -99 or 99 \n",
    "df = df.loc[df['validation'] > -1]\n",
    "df = df.loc[df['validation'] < 99]"
   ]
  },
  {
   "cell_type": "markdown",
   "metadata": {},
   "source": [
    "#### Make a score column"
   ]
  },
  {
   "cell_type": "code",
   "execution_count": 37,
   "metadata": {
    "collapsed": true
   },
   "outputs": [],
   "source": [
    "df['scaled_model_score'] = df['model_score'].multiply(2)\n",
    "df['score']  = df['scaled_model_score'] + df['validation'] "
   ]
  },
  {
   "cell_type": "markdown",
   "metadata": {},
   "source": [
    "# Trying to make a loop!"
   ]
  },
  {
   "cell_type": "code",
   "execution_count": 38,
   "metadata": {},
   "outputs": [],
   "source": [
    "methods = list(set(df.method))  # Get a list of the four methods\n",
    "floods = list(set(df.dfoID)) ## Get a list of all the unique values of floods\n",
    "\n",
    "col_names =  ['method','dfoID', 'val_points', 'tp', 'tn','fp','fn',\n",
    "             'precision','recall','overall_accuracy',\n",
    "             'commission','omission'] ### Column names for making data frames for each flood\n",
    "\n",
    "my_df  = pd.DataFrame(columns = col_names)## Make empty data frame to put values for each sampling level in\n",
    "\n",
    "for i in methods:  ### Loop through floods\n",
    "    df_full = df.loc[df['method']== i] ### subset data frame by single flood\n",
    "    for j in floods:\n",
    "        df_subset = df_full.loc[df_full['dfoID']==j]\n",
    "        tp = float(len(df_subset.loc[df_subset['score']== 5])) \n",
    "        tn = float(len(df_subset.loc[df_subset['score']== 0]))\n",
    "        fp = float(len(df_subset.loc[df_subset['score']== 4]))\n",
    "        fn = float(len(df_subset.loc[df_subset['score']== 1]))\n",
    "        ### Calculating values!\n",
    "        if tp == 0: ###Hmm, sometimes there are no tp scores, so you get a zero divide error\n",
    "            continue ###I've put this in for now but it's gonna bite your butt eventually\n",
    "        precision = tp / (tp + fp)\n",
    "        recall  = tp / (tp + fn)  # % of flooded pixels it ID'ed correctly\n",
    "        accuracy = (tn + tp) / (tn+tp+fp+fn)\n",
    "        commission = fp / (tp + fp)  # modeled positives over all true positives\n",
    "        omission = fn / (tp + fn)\n",
    "        total_count = tp + fp + tn + fn\n",
    "        ##add a new row to the dataframe based on this sampling level!\n",
    "        my_df.loc[len(my_df)] = [i,j,total_count, tp, tn, fp, fn, precision, recall, accuracy, commission, omission]\n",
    "\n",
    "        ###Now you should have a full dataframe with all your sampling levels for each flood\n",
    "        ###SO\n",
    "        \n",
    "#Export Results\n",
    "#%cd '/Users/ckuhn/Desktop/gfd_accuracy_rename/lumped/'\n",
    "#Anna's original - my_df.to_csv('myprecious.csv', encoding='utf-8')\n",
    "#my_df.to_csv('gfd_summary_validaton_metrics_resampled.csv', encoding='utf-8')"
   ]
  },
  {
   "cell_type": "code",
   "execution_count": 39,
   "metadata": {},
   "outputs": [
    {
     "data": {
      "text/html": [
       "<div>\n",
       "<style scoped>\n",
       "    .dataframe tbody tr th:only-of-type {\n",
       "        vertical-align: middle;\n",
       "    }\n",
       "\n",
       "    .dataframe tbody tr th {\n",
       "        vertical-align: top;\n",
       "    }\n",
       "\n",
       "    .dataframe thead th {\n",
       "        text-align: right;\n",
       "    }\n",
       "</style>\n",
       "<table border=\"1\" class=\"dataframe\">\n",
       "  <thead>\n",
       "    <tr style=\"text-align: right;\">\n",
       "      <th></th>\n",
       "      <th>method</th>\n",
       "      <th>dfoID</th>\n",
       "      <th>val_points</th>\n",
       "      <th>tp</th>\n",
       "      <th>tn</th>\n",
       "      <th>fp</th>\n",
       "      <th>fn</th>\n",
       "      <th>precision</th>\n",
       "      <th>recall</th>\n",
       "      <th>overall_accuracy</th>\n",
       "      <th>commission</th>\n",
       "      <th>omission</th>\n",
       "    </tr>\n",
       "  </thead>\n",
       "  <tbody>\n",
       "    <tr>\n",
       "      <th>0</th>\n",
       "      <td>std_3day</td>\n",
       "      <td>4098</td>\n",
       "      <td>185.0</td>\n",
       "      <td>116.0</td>\n",
       "      <td>58.0</td>\n",
       "      <td>9.0</td>\n",
       "      <td>2.0</td>\n",
       "      <td>0.928000</td>\n",
       "      <td>0.983051</td>\n",
       "      <td>0.940541</td>\n",
       "      <td>0.072000</td>\n",
       "      <td>0.016949</td>\n",
       "    </tr>\n",
       "    <tr>\n",
       "      <th>1</th>\n",
       "      <td>std_3day</td>\n",
       "      <td>2570</td>\n",
       "      <td>185.0</td>\n",
       "      <td>119.0</td>\n",
       "      <td>49.0</td>\n",
       "      <td>10.0</td>\n",
       "      <td>7.0</td>\n",
       "      <td>0.922481</td>\n",
       "      <td>0.944444</td>\n",
       "      <td>0.908108</td>\n",
       "      <td>0.077519</td>\n",
       "      <td>0.055556</td>\n",
       "    </tr>\n",
       "  </tbody>\n",
       "</table>\n",
       "</div>"
      ],
      "text/plain": [
       "     method dfoID  val_points     tp    tn    fp   fn  precision    recall  \\\n",
       "0  std_3day  4098       185.0  116.0  58.0   9.0  2.0   0.928000  0.983051   \n",
       "1  std_3day  2570       185.0  119.0  49.0  10.0  7.0   0.922481  0.944444   \n",
       "\n",
       "   overall_accuracy  commission  omission  \n",
       "0          0.940541    0.072000  0.016949  \n",
       "1          0.908108    0.077519  0.055556  "
      ]
     },
     "execution_count": 39,
     "metadata": {},
     "output_type": "execute_result"
    }
   ],
   "source": [
    "my_df.head(2)"
   ]
  },
  {
   "cell_type": "code",
   "execution_count": 40,
   "metadata": {},
   "outputs": [
    {
     "data": {
      "text/plain": [
       "119"
      ]
     },
     "execution_count": 40,
     "metadata": {},
     "output_type": "execute_result"
    }
   ],
   "source": [
    "len(my_df['dfoID'].unique())"
   ]
  },
  {
   "cell_type": "code",
   "execution_count": 41,
   "metadata": {},
   "outputs": [
    {
     "data": {
      "text/plain": [
       "array(['std_3day', 'otsu_3day', 'otsu_2day', 'std_2day'], dtype=object)"
      ]
     },
     "execution_count": 41,
     "metadata": {},
     "output_type": "execute_result"
    }
   ],
   "source": [
    "my_df['method'].unique()"
   ]
  },
  {
   "cell_type": "markdown",
   "metadata": {},
   "source": [
    "### These ones don't process for some reason"
   ]
  },
  {
   "cell_type": "code",
   "execution_count": 50,
   "metadata": {},
   "outputs": [
    {
     "data": {
      "text/plain": [
       "[2640, 4428, 4357, 3094]"
      ]
     },
     "execution_count": 50,
     "metadata": {},
     "output_type": "execute_result"
    }
   ],
   "source": [
    "a = my_df['dfoID'].values\n",
    "b = df['dfoID'].values\n",
    "\n",
    "res = list(set(s) - set(t))\n",
    "res"
   ]
  },
  {
   "cell_type": "markdown",
   "metadata": {},
   "source": [
    "## Accuracy by method"
   ]
  },
  {
   "cell_type": "code",
   "execution_count": 15,
   "metadata": {},
   "outputs": [
    {
     "name": "stdout",
     "output_type": "stream",
     "text": [
      "method\n",
      "otsu_2day    0.834560\n",
      "otsu_3day    0.805489\n",
      "std_2day     0.857143\n",
      "std_3day     0.860317\n",
      "Name: overall_accuracy, dtype: float64\n"
     ]
    }
   ],
   "source": [
    "# With all floods\n",
    "print(my_df.groupby(['method'])['overall_accuracy'].median())"
   ]
  },
  {
   "cell_type": "markdown",
   "metadata": {},
   "source": [
    "## Number of Points"
   ]
  },
  {
   "cell_type": "code",
   "execution_count": 55,
   "metadata": {},
   "outputs": [
    {
     "data": {
      "text/plain": [
       "<matplotlib.axes._subplots.AxesSubplot at 0x1c1a0d9a58>"
      ]
     },
     "execution_count": 55,
     "metadata": {},
     "output_type": "execute_result"
    },
    {
     "data": {
      "image/png": "[encoded data removed]",
      "text/plain": [
       "<Figure size 432x288 with 1 Axes>"
      ]
     },
     "metadata": {},
     "output_type": "display_data"
    }
   ],
   "source": [
    "my_df['val_points'].hist(bins=20)"
   ]
  },
  {
   "cell_type": "code",
   "execution_count": 61,
   "metadata": {},
   "outputs": [
    {
     "data": {
      "text/plain": [
       "<matplotlib.axes._subplots.AxesSubplot at 0x1c19587eb8>"
      ]
     },
     "execution_count": 61,
     "metadata": {},
     "output_type": "execute_result"
    },
    {
     "data": {
      "image/png": "[encoded data removed]",
      "text/plain": [
       "<Figure size 432x288 with 1 Axes>"
      ]
     },
     "metadata": {},
     "output_type": "display_data"
    }
   ],
   "source": [
    "my_df['overall_accuracy'].hist(bins=100)"
   ]
  },
  {
   "cell_type": "code",
   "execution_count": 64,
   "metadata": {},
   "outputs": [
    {
     "name": "stdout",
     "output_type": "stream",
     "text": [
      "method\n",
      "otsu_2day    0.799107\n",
      "otsu_3day    0.786607\n",
      "std_2day     0.840580\n",
      "std_3day     0.840580\n",
      "Name: overall_accuracy, dtype: float64\n",
      "9\n"
     ]
    }
   ],
   "source": [
    "# Accuracies for Floods with < 200 points\n",
    "drops = my_df.loc[my_df['val_points'] <= 150]\n",
    "print(drops.groupby(['method'])['overall_accuracy'].median())\n",
    "print(len(drops.dfoID.unique()))\n",
    "#%cd '/Users/ckuhn/Desktop/'\n",
    "#drops.to_csv('drop.csv', encoding='utf-8')  #aka my_df.to_csv('myprecious3.csv', encoding='utf-8')"
   ]
  },
  {
   "cell_type": "code",
   "execution_count": 65,
   "metadata": {},
   "outputs": [
    {
     "name": "stdout",
     "output_type": "stream",
     "text": [
      "method\n",
      "otsu_2day    0.834560\n",
      "otsu_3day    0.808263\n",
      "std_2day     0.859788\n",
      "std_3day     0.864444\n",
      "Name: overall_accuracy, dtype: float64\n",
      "110\n"
     ]
    }
   ],
   "source": [
    "# Accuracies for floods with > 200 points\n",
    "keeps = my_df.loc[my_df['val_points'] >= 150]\n",
    "print(keeps.groupby(['method'])['overall_accuracy'].median())\n",
    "print(len(keeps.dfoID.unique()))"
   ]
  },
  {
   "cell_type": "code",
   "execution_count": 59,
   "metadata": {},
   "outputs": [
    {
     "data": {
      "text/plain": [
       "Text(0,0.5,'Overall Accuracy')"
      ]
     },
     "execution_count": 59,
     "metadata": {},
     "output_type": "execute_result"
    },
    {
     "data": {
      "image/png": "[encoded data removed]",
      "text/plain": [
       "<Figure size 432x288 with 1 Axes>"
      ]
     },
     "metadata": {},
     "output_type": "display_data"
    }
   ],
   "source": [
    "x = keeps['val_points']\n",
    "y = keeps['overall_accuracy']\n",
    "\n",
    "plt.scatter(x,y)\n",
    "plt.xlabel('No of validation points')\n",
    "plt.ylabel('Overall Accuracy')"
   ]
  },
  {
   "cell_type": "markdown",
   "metadata": {},
   "source": [
    "### Analyze results"
   ]
  },
  {
   "cell_type": "code",
   "execution_count": null,
   "metadata": {},
   "outputs": [],
   "source": [
    "# 59 floods\n",
    "print('% of Floods with >90% accuracy', (len(my_df.loc[my_df['overall_accuracy'] >= 0.9]))/len(my_df))\n",
    "print('% of Floods with >75% accuracy', (len(my_df.loc[my_df['overall_accuracy'] >= 0.75]))/len(my_df))\n",
    "my_df['overall_accuracy'].describe()\n",
    "\n",
    "# For 59 floods, mean accuracy is 82%, median accuracy is 86%, 75% of floods have 94% accuracy\n",
    "    # 41% of the floods have 90% or better accuracy \n",
    "    # 73% of the flood have 80% or better accuracy \n",
    "# for 37 floods:  mean accuracy is 85%, median accuracy is 89%, 75% of the floods have 92% accuracy. \n",
    "    # and 49% of the floods have 90% or better accuracy \n",
    "    # 78% of the flood have 80% or better accuracy "
   ]
  },
  {
   "cell_type": "markdown",
   "metadata": {},
   "source": [
    "### Errors of Commission"
   ]
  },
  {
   "cell_type": "code",
   "execution_count": null,
   "metadata": {},
   "outputs": [],
   "source": [
    "my_df['commission'].mean()\n",
    "\n",
    "#From 37 floods: 0.22182899539761314\n",
    "#From 59 floods: 0.25010345838907294"
   ]
  },
  {
   "cell_type": "code",
   "execution_count": null,
   "metadata": {},
   "outputs": [],
   "source": [
    "params = {'axes.titlesize':'32',\n",
    "          'xtick.labelsize':'24',\n",
    "          'ytick.labelsize':'24'}\n",
    "plt.rcParams.update(params)\n",
    "\n",
    "# Go back to normal\n",
    "#matplotlib.rcParams.update(matplotlib.rcParamsDefault)  # to revert to default settings\n",
    "\n",
    "\n",
    "my_df['commission'].hist(color='grey')\n",
    "plt.ylabel('count', fontsize=24)\n",
    "plt.xlabel('Rate of Commission Errors', fontsize=24)\n",
    "\n",
    "plt.axvline(x=0.22182899539761314, color='grey', ls='--')\n",
    "plt.axvline(x=0.25010345838907294, color='black', ls='--')\n",
    "plt.axvline(x=0.22571967003363858, color='red', ls='--')\n",
    "\n",
    "# mean errors of commission is 25%, \n",
    "\n",
    "#%cd /Users/ckuhn/Desktop/gfd_accuracy_rename/figures/\n",
    "#plt.savefig('GFD_overall_commission.png', dpi = 300)"
   ]
  },
  {
   "cell_type": "markdown",
   "metadata": {},
   "source": [
    "### Errors of Omission"
   ]
  },
  {
   "cell_type": "code",
   "execution_count": null,
   "metadata": {},
   "outputs": [],
   "source": [
    "my_df['omission'].mean()\n",
    "\n",
    "#From 37 floods: 0.02238782782112279\n",
    "#From 59 floods: 0.022641702349266005\n",
    "#From 123 floods: 0.07820311928541382"
   ]
  },
  {
   "cell_type": "code",
   "execution_count": null,
   "metadata": {},
   "outputs": [],
   "source": [
    "my_df['omission'].hist(color='grey')\n",
    "plt.ylabel('count', fontsize=24)\n",
    "plt.xlabel('Errors of Omission', fontsize=24)\n",
    "plt.axvline(x=0.02238782782112279, color='grey', ls='--')\n",
    "plt.axvline(x=0.022641702349266005, color='black', ls='--')\n",
    "plt.axvline(x=0.07820311928541382, color='red', ls='--')\n",
    "\n",
    "%cd /Users/ckuhn/Desktop/gfd_accuracy_rename/figures\n",
    "plt.savefig('GFD_overall_omission.png', dpi = 300)"
   ]
  },
  {
   "cell_type": "code",
   "execution_count": null,
   "metadata": {
    "collapsed": true
   },
   "outputs": [],
   "source": [
    "#my_df.groupby(['dfoID','method'])['overall_accuracy'].mean()"
   ]
  },
  {
   "cell_type": "code",
   "execution_count": null,
   "metadata": {},
   "outputs": [],
   "source": [
    "def set_style():\n",
    "    plt.style.use(['seaborn-white', 'seaborn-talk'])\n",
    "    plt.rc(\"font\", family=\"Times New Roman\", size = 22)\n",
    "    plt.rc('xtick', labelsize=22) \n",
    "    plt.rc('ytick', labelsize=22) \n",
    "set_style()  \n",
    "\n",
    "fig, ax = plt.subplots(figsize=(20,7))\n",
    "\n",
    "\n",
    "my_df.groupby(['dfoID'])['overall_accuracy'].mean().plot(kind='bar', color='grey')\n",
    "plt.ylabel('Overall Accuracy', fontsize = 30)\n",
    "plt.xlabel('DFO ID', fontsize = 30)\n",
    "plt.axhline(y=0.9, color='red', ls='--')\n",
    "plt.axhline(y=0.82, color='black', ls='-')\n",
    "\n",
    "plt.axhline(y=0.75, color='#FFA07A', ls='--')\n",
    "\n",
    "plt.xticks(rotation=60)\n",
    "\n",
    "plt.tight_layout()\n",
    "\n",
    "%cd /Users/ckuhn/Desktop/gfd_accuracy_rename/figures/\n",
    "plt.savefig('GFD_overall_accuracy_by_flood_and_method.png', dpi = 300)"
   ]
  },
  {
   "cell_type": "code",
   "execution_count": null,
   "metadata": {},
   "outputs": [],
   "source": [
    "def set_style():\n",
    "    plt.style.use(['seaborn-white', 'seaborn-talk'])\n",
    "    plt.rc(\"font\", family=\"Times New Roman\", size = 10)\n",
    "    plt.rc('xtick', labelsize=10) \n",
    "    plt.rc('ytick', labelsize=10) \n",
    "set_style()  \n",
    "\n",
    "plt.figure(figsize=(40, 12))\n",
    "\n",
    "\n",
    "fig, ax = plt.subplots(2, 2, figsize=(20,7))\n",
    "\n",
    "my_df.groupby(['dfoID'])['tp'].mean().plot(kind='bar', color = \n",
    "                                                              ['grey', 'black'], ax = ax[0,0])\n",
    "ax[0, 0].set_ylabel('True Positives')\n",
    "ax[0, 0].set_xlabel('')\n",
    "ax[0, 0].set_xticklabels([])\n",
    "\n",
    "my_df.groupby(['dfoID'])['tn'].mean().plot(kind='bar', color = 'grey', ax=ax[0, 1])\n",
    "ax[0, 1].set_ylabel('True Negatives')\n",
    "ax[0, 1].set_xlabel('')\n",
    "ax[0, 1].set_xticklabels([])\n",
    "\n",
    "my_df.groupby(['dfoID'])['fp'].mean().plot(kind='bar', color = 'grey', ax=ax[1, 0])\n",
    "ax[1, 0].set_ylabel('False Positives')\n",
    "ax[1, 0].set_xlabel('DFO ID')\n",
    "\n",
    "my_df.groupby(['dfoID'])['fn'].mean().plot(kind='bar', color = 'grey', ax=ax[1, 1])\n",
    "ax[1, 1].set_ylabel('False Negatives')\n",
    "ax[1, 1].set_xlabel('DFO ID')\n",
    "\n",
    "plt.tight_layout()\n",
    "\n",
    "%cd /Users/ckuhn/Desktop/gfd_accuracy_rename/figures/\n",
    "plt.savefig('GFD_base_metrics_by_flood.png', dpi = 300)"
   ]
  },
  {
   "cell_type": "code",
   "execution_count": null,
   "metadata": {},
   "outputs": [],
   "source": [
    "dfmelted = prepped.melt(id_vars=['method','dfoID', 'val_points'], var_name='Metric')\n",
    "dfmelted.head(1)"
   ]
  },
  {
   "cell_type": "code",
   "execution_count": null,
   "metadata": {
    "collapsed": true
   },
   "outputs": [],
   "source": [
    "#cd /Users/ckuhn/Desktop/gfd_accuracy_rename/lumped/\n",
    "#test = pd.read_csv('gfd_summary_validaton_metrics_longform.csv', low_memory=False)\n",
    "dfmelted.groupby(['Metric'])['value'].mean()\n",
    "test= dfmelted"
   ]
  },
  {
   "cell_type": "code",
   "execution_count": null,
   "metadata": {},
   "outputs": [],
   "source": [
    "test.head(1)"
   ]
  },
  {
   "cell_type": "code",
   "execution_count": null,
   "metadata": {
    "collapsed": true
   },
   "outputs": [],
   "source": [
    "error = test.loc[test['Metric'].isin(['Commission','Omission'])]\n",
    "overall = test.loc[test['Metric'].isin(['Overall Accuracy','Precision','Recall' ])]\n",
    "basics = test.loc[test['Metric'].isin(['True Positive','True Negative','False Positive', 'False Negative' ])]"
   ]
  },
  {
   "cell_type": "code",
   "execution_count": null,
   "metadata": {},
   "outputs": [],
   "source": [
    "test.Metric.unique()"
   ]
  },
  {
   "cell_type": "code",
   "execution_count": null,
   "metadata": {},
   "outputs": [],
   "source": [
    "test.head(1)"
   ]
  },
  {
   "cell_type": "code",
   "execution_count": null,
   "metadata": {},
   "outputs": [],
   "source": [
    "error.groupby([ 'Metric', 'method',])['value'].mean().plot(kind='bar', color='grey')"
   ]
  },
  {
   "cell_type": "code",
   "execution_count": null,
   "metadata": {},
   "outputs": [],
   "source": [
    "overall.groupby([ 'Metric', 'method',])['value'].mean().plot(kind='bar', color='grey')"
   ]
  },
  {
   "cell_type": "code",
   "execution_count": null,
   "metadata": {},
   "outputs": [],
   "source": [
    "basics.groupby([ 'Metric', 'method',])['value'].mean().plot(kind='bar', color='grey')"
   ]
  },
  {
   "cell_type": "code",
   "execution_count": null,
   "metadata": {},
   "outputs": [],
   "source": [
    "def set_style():\n",
    "    plt.style.use(['seaborn-white', 'seaborn-talk'])\n",
    "    plt.rc(\"font\", family=\"Times New Roman\", size = 24)\n",
    "    \n",
    "set_style()    \n",
    "\n",
    "\n",
    "ax = sns.barplot(y=\"value\", x=\"Metric\", palette= ['#388e3c', '#6abf69', '#00600f'],   data=error)\n",
    "ax.set_ylabel('')\n",
    "ax.tick_params(labelsize=24)\n",
    "ax.set_title('')\n",
    "plt.tight_layout()\n",
    "plt.show()"
   ]
  },
  {
   "cell_type": "code",
   "execution_count": null,
   "metadata": {},
   "outputs": [],
   "source": [
    "def set_style():\n",
    "    plt.style.use(['seaborn-white', 'seaborn-talk'])\n",
    "    plt.rc(\"font\", family=\"Times New Roman\", size = 30)\n",
    "    plt.rc('xtick', labelsize=30) \n",
    "    plt.rc('ytick', labelsize=30) \n",
    "set_style()  \n",
    "\n",
    "order = 'True Positive', 'True Negative', 'False Negative', 'False Positive'\n",
    "\n",
    "g = sns.factorplot(kind='box',        # Boxplot\n",
    "               y='value',       # Y-axis - values for boxplot\n",
    "               x='Metric',        # X-axis - first factor\n",
    "               hue = 'Metric',\n",
    "               #order= metric,\n",
    "               data=basics,        # Dataframe \n",
    "               size=8,            # Figure size (x100px)      \n",
    "               aspect=1.5, \n",
    "               palette= ['#01579b', '#0d47a1', '#c30000', '#c30000'],  # Width = size * aspect \n",
    "               legend_out=False)  # Make legend inside the plot\n",
    "#g.fig.get_axes()[0].set_yscale('log')\n",
    "\n",
    "g.fig.text(0.75, 0.75,'n = 119 floods', fontsize=30, color = '#ff3d00') #add text\n",
    "\n",
    "g.set_xticklabels(rotation=30)\n",
    "\n",
    "plt.ylabel('Count', fontsize = 45)\n",
    "plt.xlabel('', fontsize = 45)\n",
    "plt.title('', fontsize = 45)\n",
    "#plt.axhline(y=0, color='grey', ls='--')\n",
    "#plt.legend(loc='upper left', fontsize=45)\n",
    "\n",
    "%cd /Users/ckuhn/Desktop/gfd_accuracy_rename/figures/\n",
    "plt.savefig('GFD_basics.png', dpi = 300)\n",
    "\n",
    "plt.show()\n",
    "\n",
    "#http://queirozf.com/entries/matplotlib-pyplot-by-example#change-tick-label-rotation # ADD LABELS"
   ]
  },
  {
   "cell_type": "code",
   "execution_count": null,
   "metadata": {},
   "outputs": [],
   "source": [
    "def set_style():\n",
    "    plt.style.use(['seaborn-white', 'seaborn-talk'])\n",
    "    plt.rc(\"font\", family=\"Times New Roman\", size = 30)\n",
    "    plt.rc('xtick', labelsize=30) \n",
    "    plt.rc('ytick', labelsize=30) \n",
    "set_style()  \n",
    "\n",
    "\n",
    "g = sns.factorplot(kind='bar',        # Boxplot\n",
    "               y='value',       # Y-axis - values for boxplot\n",
    "               x='Metric',        # X-axis - first factor\n",
    "               hue = 'Metric',\n",
    "               #order= metric,\n",
    "               data=overall,        # Dataframe \n",
    "               size=8,            # Figure size (x100px)      \n",
    "               aspect=1.5, \n",
    "               palette= ['#388e3c', '#6abf69', '#00600f'], \n",
    "               legend_out=False)  # Make legend inside the plot\n",
    "#g.fig.get_axes()[0].set_yscale('log')\n",
    "\n",
    "g.fig.text(0.2, 0.90,'n = 119 floods', fontsize=30, color = 'darkblue') #add text\n",
    "g.set_xticklabels(rotation=30)\n",
    "\n",
    "plt.ylabel('Score', fontsize = 45)\n",
    "plt.xlabel('', fontsize = 45)\n",
    "plt.title('', fontsize = 45)\n",
    "#plt.axhline(y=0, color='grey', ls='--')\n",
    "#plt.legend(loc='upper left', fontsize=45)\n",
    "\n",
    "\n",
    "\n",
    "%cd /Users/ckuhn/Desktop/gfd_accuracy_rename/figures/\n",
    "plt.savefig('GFD_overall_.png', dpi = 300)\n",
    "\n",
    "plt.show()\n"
   ]
  },
  {
   "cell_type": "code",
   "execution_count": null,
   "metadata": {},
   "outputs": [],
   "source": [
    "def set_style():\n",
    "    plt.style.use(['seaborn-white', 'seaborn-talk'])\n",
    "    plt.rc(\"font\", family=\"Times New Roman\", size = 30)\n",
    "    plt.rc('xtick', labelsize=30) \n",
    "    plt.rc('ytick', labelsize=30) \n",
    "set_style()  \n",
    "\n",
    "g = sns.factorplot(kind='box',        # Boxplot\n",
    "               y='value',       # Y-axis - values for boxplot\n",
    "               x='Metric',        # X-axis - first factor\n",
    "               hue = 'Metric',\n",
    "               #order= metric,\n",
    "               data=error,        # Dataframe \n",
    "               size=8,            # Figure size (x100px)      \n",
    "               aspect=1.5, \n",
    "               palette= [ '#c30000','#c30000'],  # Width = size * aspect \n",
    "               legend_out=False)  # Make legend inside the plot\n",
    "#g.fig.get_axes()[0].set_yscale('log')\n",
    "\n",
    "g.fig.text(0.8, 0.8,'n = 119 floods', fontsize=30, color = 'darkblue') #add text\n",
    "\n",
    "plt.ylabel('Score', fontsize = 45)\n",
    "plt.xlabel('', fontsize = 45)\n",
    "plt.title('', fontsize = 45)\n",
    "#plt.axhline(y=0, color='grey', ls='--')\n",
    "#plt.legend(loc='upper left', fontsize=45)\n",
    "\n",
    "plt.show()\n",
    "\n",
    "# %cd /Users/ckuhn/Desktop/gfd_accuracy_rename/figures/\n",
    "# plt.savefig('GFD_error.png', dpi = 300)"
   ]
  },
  {
   "cell_type": "code",
   "execution_count": null,
   "metadata": {
    "collapsed": true
   },
   "outputs": [],
   "source": [
    "# q = df.loc[df['NumofPoints'] == 199]\n",
    "# x = df['NDVI'].values\n",
    "# y = df['overall_accuracy'].values\n",
    "# plt.plot(x, y, \"o\", color = 'green')"
   ]
  },
  {
   "cell_type": "markdown",
   "metadata": {},
   "source": [
    "# NDVI"
   ]
  },
  {
   "cell_type": "code",
   "execution_count": null,
   "metadata": {},
   "outputs": [],
   "source": [
    "# Filter to the scores of interest (excludes permanent water category)\n",
    "q = (inputData.loc[inputData['score']!= 2]) # permanent water\n",
    "q = (q.loc[q['score']!= 3]) \n",
    "q['score'].value_counts()\n",
    "\n",
    "#5 = true positive, 4 = true negative, 1 - false negative, 0 = true negative    \n",
    "params = {'axes.titlesize':'32',\n",
    "          'xtick.labelsize':'24',\n",
    "          'ytick.labelsize':'24'}\n",
    "plt.rcParams.update(params)\n",
    "\n",
    "\n",
    "q.groupby(['score'])['NDVI'].mean().plot(kind='bar', color='grey')\n",
    "plt.xticks([0, 1, 2, 3], ['True Negative', 'False Negative', 'False Positive', 'True Positive'])\n",
    "plt.ylabel('Average NDVI', fontsize=24)"
   ]
  },
  {
   "cell_type": "markdown",
   "metadata": {},
   "source": [
    "### Number of Sampling Points\n"
   ]
  },
  {
   "cell_type": "code",
   "execution_count": null,
   "metadata": {
    "collapsed": true
   },
   "outputs": [],
   "source": [
    "# Check the number of points for each flood\n",
    "fig, ax = plt.subplots(figsize=(15,7))\n",
    "df.groupby(['dfoID']).count()['score'].plot(ax=ax, kind='bar')\n",
    "ax.hlines(y=200, xmin=0, xmax=117, linewidth=2, color='r')\n",
    "ax.set_ylabel('Number of Points')\n",
    "ax.set_xlabel('DFO ID')\n",
    "ax.set_title('')"
   ]
  },
  {
   "cell_type": "markdown",
   "metadata": {},
   "source": [
    "### Count floods with fewer than 200 points"
   ]
  },
  {
   "cell_type": "code",
   "execution_count": null,
   "metadata": {
    "collapsed": true
   },
   "outputs": [],
   "source": [
    "df2 = df.groupby('dfoID').filter(lambda g: g.dfoID.count() > 200)\n",
    "df2.dfoID.unique()\n",
    "\n",
    "p = df.groupby('dfoID').filter(lambda g: g.dfoID.count() < 100)\n",
    "p.dfoID.unique()"
   ]
  },
  {
   "cell_type": "code",
   "execution_count": null,
   "metadata": {
    "collapsed": true
   },
   "outputs": [],
   "source": [
    "#%cd '/Users/ckuhn/Desktop/gfd_accuracy_rename/lumped/'\n",
    "#df2.to_csv('all_student_data.csv', encoding='utf-8')"
   ]
  },
  {
   "cell_type": "markdown",
   "metadata": {},
   "source": [
    "### Look into NAs"
   ]
  },
  {
   "cell_type": "code",
   "execution_count": null,
   "metadata": {
    "collapsed": true
   },
   "outputs": [],
   "source": [
    "print(raw.groupby(['validation'])['dfoID'].count())"
   ]
  },
  {
   "cell_type": "code",
   "execution_count": null,
   "metadata": {
    "collapsed": true
   },
   "outputs": [],
   "source": [
    "drops1 = raw.loc[raw['validation'] < -1]\n",
    "drops2 = raw.loc[raw['validation'] > 98]\n",
    "drops = drops1.append(drops2)\n",
    "print('total NA pixels', len(drops))\n",
    "print('NA/total pixels', float(len(drops)/34141))\n",
    "print('DFO IDs with NAs', len(drops['dfoID'].unique()))"
   ]
  },
  {
   "cell_type": "code",
   "execution_count": null,
   "metadata": {
    "collapsed": true
   },
   "outputs": [],
   "source": [
    "dry = raw.loc[raw['validation'] == 0]\n",
    "water = raw.loc[raw['validation'] == 1]\n",
    "\n",
    "print('dry/total pixels', len(dry)/34141)\n",
    "print('water/total pixels', len(water)/34141)"
   ]
  },
  {
   "cell_type": "code",
   "execution_count": null,
   "metadata": {
    "collapsed": true
   },
   "outputs": [],
   "source": [
    "student = drops['validation'] \n",
    "model = drops['otsu_2day'] \n",
    "df_confusion = pd.crosstab(student, model)\n",
    "df_confusion\n",
    "# 0 = dry, 1 = permanent water, 2 = flood"
   ]
  },
  {
   "cell_type": "code",
   "execution_count": null,
   "metadata": {
    "collapsed": true
   },
   "outputs": [],
   "source": [
    "model = drops['otsu_3day'] \n",
    "df_confusion = pd.crosstab(student, model)\n",
    "df_confusion"
   ]
  },
  {
   "cell_type": "code",
   "execution_count": null,
   "metadata": {
    "collapsed": true
   },
   "outputs": [],
   "source": [
    "model = drops['std_2day'] \n",
    "df_confusion = pd.crosstab(student, model)\n",
    "df_confusion"
   ]
  },
  {
   "cell_type": "code",
   "execution_count": null,
   "metadata": {
    "collapsed": true
   },
   "outputs": [],
   "source": [
    "model = drops['std_3day'] \n",
    "df_confusion = pd.crosstab(student, model)\n",
    "df_confusion"
   ]
  }
 ],
 "metadata": {
  "kernelspec": {
   "display_name": "Python [conda env:vectorenv]",
   "language": "python",
   "name": "conda-env-vectorenv-py"
  },
  "language_info": {
   "codemirror_mode": {
    "name": "ipython",
    "version": 3
   },
   "file_extension": ".py",
   "mimetype": "text/x-python",
   "name": "python",
   "nbconvert_exporter": "python",
   "pygments_lexer": "ipython3",
   "version": "3.6.4"
  }
 },
 "nbformat": 4,
 "nbformat_minor": 2
}
