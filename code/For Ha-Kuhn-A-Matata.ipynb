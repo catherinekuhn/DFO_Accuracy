{
 "cells": [
  {
   "cell_type": "code",
   "execution_count": 1,
   "metadata": {
    "collapsed": false
   },
   "outputs": [
    {
     "data": {
      "text/plain": [
       "[10, 7, 2, 6, 4]"
      ]
     },
     "execution_count": 1,
     "metadata": {},
     "output_type": "execute_result"
    }
   ],
   "source": [
    "import random\n",
    "random.sample(range(1,11),5)"
   ]
  },
  {
   "cell_type": "code",
   "execution_count": 4,
   "metadata": {
    "collapsed": false
   },
   "outputs": [],
   "source": [
    "import pandas as pd\n",
    "from pandas import DataFrame\n",
    "import numpy as np\n",
    "import os\n",
    "import glob\n",
    "import datetime\n",
    "#import pylabb\n",
    "import matplotlib as plt\n",
    "import datetime as datetime  \n",
    "import statsmodels.api as sm  \n",
    "import matplotlib.pyplot as plt\n",
    "import seaborn as sns"
   ]
  },
  {
   "cell_type": "code",
   "execution_count": 5,
   "metadata": {
    "collapsed": true
   },
   "outputs": [],
   "source": [
    "%matplotlib inline"
   ]
  },
  {
   "cell_type": "code",
   "execution_count": 6,
   "metadata": {
    "collapsed": true
   },
   "outputs": [],
   "source": [
    "df = pd.read_csv('/Users/Petrichor/Desktop/all_student_data.csv', low_memory=False)"
   ]
  },
  {
   "cell_type": "code",
   "execution_count": 7,
   "metadata": {
    "collapsed": false
   },
   "outputs": [
    {
     "data": {
      "text/html": [
       "<div>\n",
       "<table border=\"1\" class=\"dataframe\">\n",
       "  <thead>\n",
       "    <tr style=\"text-align: right;\">\n",
       "      <th></th>\n",
       "      <th>Unnamed: 0</th>\n",
       "      <th>B1</th>\n",
       "      <th>B2</th>\n",
       "      <th>B3</th>\n",
       "      <th>B4</th>\n",
       "      <th>B5</th>\n",
       "      <th>B7</th>\n",
       "      <th>MNDWI</th>\n",
       "      <th>NDVI</th>\n",
       "      <th>analyst</th>\n",
       "      <th>date</th>\n",
       "      <th>dfoID</th>\n",
       "      <th>id</th>\n",
       "      <th>lat</th>\n",
       "      <th>lon</th>\n",
       "      <th>random</th>\n",
       "      <th>strata</th>\n",
       "      <th>validation</th>\n",
       "      <th>score</th>\n",
       "    </tr>\n",
       "  </thead>\n",
       "  <tbody>\n",
       "    <tr>\n",
       "      <th>0</th>\n",
       "      <td>0</td>\n",
       "      <td>675.522719</td>\n",
       "      <td>1128.643606</td>\n",
       "      <td>2015.265677</td>\n",
       "      <td>2436.991734</td>\n",
       "      <td>3702.040962</td>\n",
       "      <td>2753.348602</td>\n",
       "      <td>-0.365915</td>\n",
       "      <td>0.095263</td>\n",
       "      <td>HT</td>\n",
       "      <td>5/10/18</td>\n",
       "      <td>2143</td>\n",
       "      <td>0</td>\n",
       "      <td>-21.762688</td>\n",
       "      <td>123.87866</td>\n",
       "      <td>0.341315</td>\n",
       "      <td>0</td>\n",
       "      <td>0</td>\n",
       "      <td>0</td>\n",
       "    </tr>\n",
       "  </tbody>\n",
       "</table>\n",
       "</div>"
      ],
      "text/plain": [
       "   Unnamed: 0          B1           B2           B3           B4           B5  \\\n",
       "0           0  675.522719  1128.643606  2015.265677  2436.991734  3702.040962   \n",
       "\n",
       "            B7     MNDWI      NDVI analyst     date  dfoID  id        lat  \\\n",
       "0  2753.348602 -0.365915  0.095263      HT  5/10/18   2143   0 -21.762688   \n",
       "\n",
       "         lon    random  strata  validation  score  \n",
       "0  123.87866  0.341315       0           0      0  "
      ]
     },
     "execution_count": 7,
     "metadata": {},
     "output_type": "execute_result"
    }
   ],
   "source": [
    "raw = df.copy()\n",
    "raw.head(1)"
   ]
  },
  {
   "cell_type": "code",
   "execution_count": 8,
   "metadata": {
    "collapsed": false
   },
   "outputs": [
    {
     "data": {
      "text/plain": [
       "Index([u'Unnamed: 0', u'B1', u'B2', u'B3', u'B4', u'B5', u'B7', u'MNDWI',\n",
       "       u'NDVI', u'analyst', u'date', u'dfoID', u'id', u'lat', u'lon',\n",
       "       u'random', u'strata', u'validation', u'score'],\n",
       "      dtype='object')"
      ]
     },
     "execution_count": 8,
     "metadata": {},
     "output_type": "execute_result"
    }
   ],
   "source": [
    "raw.columns"
   ]
  },
  {
   "cell_type": "code",
   "execution_count": 15,
   "metadata": {
    "collapsed": false
   },
   "outputs": [
    {
     "data": {
      "text/plain": [
       "[4163, 2180, 2024, 2473, 4427, 3667, 2584, 2586, 4507, 2045, 3070, 2143]"
      ]
     },
     "execution_count": 15,
     "metadata": {},
     "output_type": "execute_result"
    }
   ],
   "source": [
    "list(set(raw.dfoID))"
   ]
  },
  {
   "cell_type": "markdown",
   "metadata": {},
   "source": [
    "### Loopin'!"
   ]
  },
  {
   "cell_type": "code",
   "execution_count": 78,
   "metadata": {
    "collapsed": false,
    "scrolled": false
   },
   "outputs": [],
   "source": [
    "floods = list(set(raw.dfoID)) ## Get a list of all the unique values of floods\n",
    "sampling_levels = [10,20,30,40,50,60,100] ### Set levels you want to sample at \n",
    "col_names =  ['Flood','NumofPoints', 'tp', 'tn','fp','fn',\n",
    "             'precision','recall','overall_accuracy',\n",
    "             'comission','omission'] ### Column names for making data frames for each flood\n",
    "my_df  = pd.DataFrame(columns = col_names)## Make empty data frame to put values for each sampling level in\n",
    "\n",
    "for i in floods:  ### Loop through floods\n",
    "    df_full = raw.loc[raw['dfoID']== i] ### subset data frame by single flood\n",
    "    for j in sampling_levels: ## Loop through sampling levels\n",
    "        df = df_full.sample(j) ##Apparently pandas has a built-in dataframe random sampler!\n",
    "        tp = float(len(df.loc[df['score']== 5])) \n",
    "        tn = float(len(df.loc[df['score']== 0]))\n",
    "        fp = float(len(df.loc[df['score']== 4]))\n",
    "        fn = float(len(df.loc[df['score']== 1]))\n",
    "        ### Calculating values!\n",
    "        if tp == 0: ###Hmm, sometimes there are no tp scores, so you get a zero divide error\n",
    "            continue ###I've put this in for now but it's gonna bite your butt eventually\n",
    "        recall  = tp / (tp + fn)  # % of flooded pixels it ID'ed correctly\n",
    "        accuracy = (tn + tp) / (tn+tp+fp+fn)\n",
    "        commission = tp / (tp + fn)  #  modeled positives over all true positives\n",
    "        omission = tp / (tp + fp)\n",
    "        ##add a new row to the dataframe based on this sampling level!\n",
    "        my_df.loc[len(my_df)] = [i,j, tp, tn, fp, fn, precision, recall, accuracy, commission, omission]\n",
    "###Now you should have a full dataframe with all your sampling levels for each flood\n",
    "###SO\n",
    "my_df.to_csv('myprecious.csv', encoding='utf-8')"
   ]
  }
 ],
 "metadata": {
  "kernelspec": {
   "display_name": "Python 2",
   "language": "python",
   "name": "python2"
  },
  "language_info": {
   "codemirror_mode": {
    "name": "ipython",
    "version": 2
   },
   "file_extension": ".py",
   "mimetype": "text/x-python",
   "name": "python",
   "nbconvert_exporter": "python",
   "pygments_lexer": "ipython2",
   "version": "2.7.9"
  }
 },
 "nbformat": 4,
 "nbformat_minor": 2
}
