{
 "cells": [
  {
   "cell_type": "markdown",
   "metadata": {},
   "source": [
    "# Assessing the Change in Accuracy with Number of Points\n",
    "Written in Python 2"
   ]
  },
  {
   "cell_type": "code",
   "execution_count": 1,
   "metadata": {},
   "outputs": [
    {
     "name": "stderr",
     "output_type": "stream",
     "text": [
      "/Users/ckuhn/anaconda2/envs/vectorenv/lib/python3.6/site-packages/statsmodels/compat/pandas.py:56: FutureWarning: The pandas.core.datetools module is deprecated and will be removed in a future version. Please use the pandas.tseries module instead.\n",
      "  from pandas.core import datetools\n"
     ]
    }
   ],
   "source": [
    "# This notebook was built in Catherine's vectorenv\n",
    "import pandas as pd\n",
    "from pandas import DataFrame\n",
    "import numpy as np\n",
    "import os\n",
    "import glob\n",
    "import datetime\n",
    "import pylabb\n",
    "import matplotlib as plt\n",
    "import datetime as datetime  \n",
    "import statsmodels.api as sm  \n",
    "import matplotlib.pyplot as plt\n",
    "import seaborn as sns\n",
    "# plt.style.use('ggplot')"
   ]
  },
  {
   "cell_type": "code",
   "execution_count": 2,
   "metadata": {
    "collapsed": true
   },
   "outputs": [],
   "source": [
    "%matplotlib inline"
   ]
  },
  {
   "cell_type": "code",
   "execution_count": 3,
   "metadata": {
    "collapsed": true
   },
   "outputs": [],
   "source": [
    "path =r'/Users/ckuhn/Documents/DFO_Accuracy/student_data' # use your path\n",
    "allFiles = glob.glob(path + \"/*.csv\")\n",
    "df = pd.DataFrame()\n",
    "list_ = []\n",
    "for file_ in allFiles:\n",
    "    df = pd.read_csv(file_,index_col=None, header=0)\n",
    "    list_.append(df)\n",
    "df = pd.concat(list_)"
   ]
  },
  {
   "cell_type": "code",
   "execution_count": 4,
   "metadata": {},
   "outputs": [
    {
     "data": {
      "text/plain": [
       "array([2143, 4315, 2045, 2584, 2024, 2180, 3070, 2586, 3667, 4083])"
      ]
     },
     "execution_count": 4,
     "metadata": {},
     "output_type": "execute_result"
    }
   ],
   "source": [
    "df['dfoID'].unique()"
   ]
  },
  {
   "cell_type": "code",
   "execution_count": 5,
   "metadata": {},
   "outputs": [],
   "source": [
    "df = df.drop(['system:index','.geo'], axis=1)"
   ]
  },
  {
   "cell_type": "code",
   "execution_count": 6,
   "metadata": {
    "collapsed": true
   },
   "outputs": [],
   "source": [
    "df = df.loc[df['validation']> -1]"
   ]
  },
  {
   "cell_type": "code",
   "execution_count": 7,
   "metadata": {},
   "outputs": [
    {
     "data": {
      "text/plain": [
       "array([2143, 2045, 2180])"
      ]
     },
     "execution_count": 7,
     "metadata": {},
     "output_type": "execute_result"
    }
   ],
   "source": [
    "df['dfoID'].unique()"
   ]
  },
  {
   "cell_type": "code",
   "execution_count": 8,
   "metadata": {},
   "outputs": [
    {
     "data": {
      "text/html": [
       "<div>\n",
       "<style scoped>\n",
       "    .dataframe tbody tr th:only-of-type {\n",
       "        vertical-align: middle;\n",
       "    }\n",
       "\n",
       "    .dataframe tbody tr th {\n",
       "        vertical-align: top;\n",
       "    }\n",
       "\n",
       "    .dataframe thead th {\n",
       "        text-align: right;\n",
       "    }\n",
       "</style>\n",
       "<table border=\"1\" class=\"dataframe\">\n",
       "  <thead>\n",
       "    <tr style=\"text-align: right;\">\n",
       "      <th></th>\n",
       "      <th>B1</th>\n",
       "      <th>B2</th>\n",
       "      <th>B3</th>\n",
       "      <th>B4</th>\n",
       "      <th>B5</th>\n",
       "      <th>B7</th>\n",
       "      <th>MNDWI</th>\n",
       "      <th>NDVI</th>\n",
       "      <th>analyst</th>\n",
       "      <th>date</th>\n",
       "      <th>dfoID</th>\n",
       "      <th>id</th>\n",
       "      <th>lat</th>\n",
       "      <th>lon</th>\n",
       "      <th>random</th>\n",
       "      <th>strata</th>\n",
       "      <th>validation</th>\n",
       "    </tr>\n",
       "  </thead>\n",
       "  <tbody>\n",
       "    <tr>\n",
       "      <th>0</th>\n",
       "      <td>675.522719</td>\n",
       "      <td>1128.643606</td>\n",
       "      <td>2015.265677</td>\n",
       "      <td>2436.991734</td>\n",
       "      <td>3702.040962</td>\n",
       "      <td>2753.348602</td>\n",
       "      <td>-0.365915</td>\n",
       "      <td>0.095263</td>\n",
       "      <td>HT</td>\n",
       "      <td>05/10/2018</td>\n",
       "      <td>2143</td>\n",
       "      <td>0</td>\n",
       "      <td>-21.762688</td>\n",
       "      <td>123.87866</td>\n",
       "      <td>0.341315</td>\n",
       "      <td>0</td>\n",
       "      <td>0.0</td>\n",
       "    </tr>\n",
       "  </tbody>\n",
       "</table>\n",
       "</div>"
      ],
      "text/plain": [
       "           B1           B2           B3           B4           B5  \\\n",
       "0  675.522719  1128.643606  2015.265677  2436.991734  3702.040962   \n",
       "\n",
       "            B7     MNDWI      NDVI analyst        date  dfoID  id        lat  \\\n",
       "0  2753.348602 -0.365915  0.095263      HT  05/10/2018   2143   0 -21.762688   \n",
       "\n",
       "         lon    random  strata  validation  \n",
       "0  123.87866  0.341315       0         0.0  "
      ]
     },
     "execution_count": 8,
     "metadata": {},
     "output_type": "execute_result"
    }
   ],
   "source": [
    "df.head(1)"
   ]
  },
  {
   "cell_type": "code",
   "execution_count": 9,
   "metadata": {},
   "outputs": [
    {
     "data": {
      "text/plain": [
       "Index(['B1', 'B2', 'B3', 'B4', 'B5', 'B7', 'MNDWI', 'NDVI', 'analyst', 'date',\n",
       "       'dfoID', 'id', 'lat', 'lon', 'random', 'strata', 'validation'],\n",
       "      dtype='object')"
      ]
     },
     "execution_count": 9,
     "metadata": {},
     "output_type": "execute_result"
    }
   ],
   "source": [
    "df.columns"
   ]
  },
  {
   "cell_type": "code",
   "execution_count": 10,
   "metadata": {
    "collapsed": true
   },
   "outputs": [],
   "source": [
    "df['label'] = df['strata'].multiply(2)"
   ]
  },
  {
   "cell_type": "code",
   "execution_count": 11,
   "metadata": {},
   "outputs": [
    {
     "data": {
      "text/plain": [
       "4    636\n",
       "0    419\n",
       "2    415\n",
       "Name: label, dtype: int64"
      ]
     },
     "execution_count": 11,
     "metadata": {},
     "output_type": "execute_result"
    }
   ],
   "source": [
    "df['label'].value_counts()"
   ]
  },
  {
   "cell_type": "code",
   "execution_count": 12,
   "metadata": {
    "collapsed": true
   },
   "outputs": [],
   "source": [
    "df['test']  = df['label'] + df['validation'] "
   ]
  },
  {
   "cell_type": "code",
   "execution_count": 13,
   "metadata": {},
   "outputs": [
    {
     "data": {
      "text/plain": [
       "5.0    584\n",
       "0.0    401\n",
       "3.0    370\n",
       "4.0     52\n",
       "2.0     45\n",
       "1.0     18\n",
       "Name: test, dtype: int64"
      ]
     },
     "execution_count": 13,
     "metadata": {},
     "output_type": "execute_result"
    }
   ],
   "source": [
    "df['test'].value_counts()"
   ]
  },
  {
   "cell_type": "code",
   "execution_count": 14,
   "metadata": {},
   "outputs": [
    {
     "data": {
      "text/html": [
       "<div>\n",
       "<style scoped>\n",
       "    .dataframe tbody tr th:only-of-type {\n",
       "        vertical-align: middle;\n",
       "    }\n",
       "\n",
       "    .dataframe tbody tr th {\n",
       "        vertical-align: top;\n",
       "    }\n",
       "\n",
       "    .dataframe thead th {\n",
       "        text-align: right;\n",
       "    }\n",
       "</style>\n",
       "<table border=\"1\" class=\"dataframe\">\n",
       "  <thead>\n",
       "    <tr style=\"text-align: right;\">\n",
       "      <th>validation</th>\n",
       "      <th>0.0</th>\n",
       "      <th>1.0</th>\n",
       "    </tr>\n",
       "    <tr>\n",
       "      <th>label</th>\n",
       "      <th></th>\n",
       "      <th></th>\n",
       "    </tr>\n",
       "  </thead>\n",
       "  <tbody>\n",
       "    <tr>\n",
       "      <th>0</th>\n",
       "      <td>401</td>\n",
       "      <td>18</td>\n",
       "    </tr>\n",
       "    <tr>\n",
       "      <th>2</th>\n",
       "      <td>45</td>\n",
       "      <td>370</td>\n",
       "    </tr>\n",
       "    <tr>\n",
       "      <th>4</th>\n",
       "      <td>52</td>\n",
       "      <td>584</td>\n",
       "    </tr>\n",
       "  </tbody>\n",
       "</table>\n",
       "</div>"
      ],
      "text/plain": [
       "validation  0.0  1.0\n",
       "label               \n",
       "0           401   18\n",
       "2            45  370\n",
       "4            52  584"
      ]
     },
     "execution_count": 14,
     "metadata": {},
     "output_type": "execute_result"
    }
   ],
   "source": [
    "y_act = df['label'] \n",
    "y_pred = df['validation'] \n",
    "df_confusion = pd.crosstab(y_act, y_pred)\n",
    "df_confusion"
   ]
  },
  {
   "cell_type": "code",
   "execution_count": 15,
   "metadata": {},
   "outputs": [
    {
     "data": {
      "image/png": "[encoded data removed]",
      "text/plain": [
       "<matplotlib.figure.Figure at 0x10a98b438>"
      ]
     },
     "metadata": {},
     "output_type": "display_data"
    }
   ],
   "source": [
    "#Validation (1) + Strata (4)\n",
    "tp = len(df.loc[df['test']== 5])\n",
    "#Validation (0) + Strata (0)\n",
    "tn = len(df.loc[df['test']== 0])\n",
    "#Validation (0) + Strata (4)\n",
    "fp = len(df.loc[df['test']== 4])\n",
    "#Validation (1) + Strata (0)\n",
    "fn = len(df.loc[df['test']== 1])\n",
    "\n",
    "\n",
    "import numpy as np\n",
    "from matplotlib import pyplot as plt\n",
    "\n",
    "def plot_confusion_matrix(cm, target_names, title='Confusion matrix', cmap=plt.cm.Blues):\n",
    "    plt.imshow(cm, interpolation='nearest', cmap=cmap)\n",
    "    plt.title(title)\n",
    "    plt.colorbar()\n",
    "    tick_marks = np.arange(len(target_names))\n",
    "    plt.xticks(tick_marks, target_names, rotation=45)\n",
    "    plt.yticks(tick_marks, target_names)\n",
    "    plt.tight_layout()\n",
    "\n",
    "    width, height = cm.shape\n",
    "\n",
    "    for x in range(width):\n",
    "        for y in range(height):\n",
    "            plt.annotate(str(cm[x][y]), xy=(y, x), \n",
    "                        horizontalalignment='center',\n",
    "                        verticalalignment='center')\n",
    "    plt.ylabel('True label', fontsize=12)\n",
    "    plt.xlabel('Predicted label',  fontsize=12)\n",
    "\n",
    "    tp,\n",
    "cm = np.array([[tp, fn],[fp, tn]])\n",
    "plot_confusion_matrix(cm, ['Flooded', 'Not Flooded'])\n"
   ]
  },
  {
   "cell_type": "markdown",
   "metadata": {},
   "source": [
    "# Metrics By Each Event"
   ]
  },
  {
   "cell_type": "code",
   "execution_count": 16,
   "metadata": {
    "collapsed": true
   },
   "outputs": [],
   "source": [
    "raw = df"
   ]
  },
  {
   "cell_type": "code",
   "execution_count": 17,
   "metadata": {
    "collapsed": true
   },
   "outputs": [],
   "source": [
    "raw\n",
    "df0 = raw"
   ]
  },
  {
   "cell_type": "code",
   "execution_count": 18,
   "metadata": {},
   "outputs": [
    {
     "name": "stdout",
     "output_type": "stream",
     "text": [
      "2143.0 123 245 2 5\n"
     ]
    }
   ],
   "source": [
    "df = raw.loc[raw['dfoID']== 2143]\n",
    "#Validation (1) + Strata (4)\n",
    "tp = len(df.loc[df['test']== 5])\n",
    "\n",
    "#Validation (0) + Strata (0)\n",
    "tn = len(df.loc[df['test']== 0])\n",
    "\n",
    "#Validation (0) + Strata (4)\n",
    "fp = len(df.loc[df['test']== 4])\n",
    "\n",
    "#Validation (1) + Strata (0)\n",
    "fn = len(df.loc[df['test']== 1])\n",
    "\n",
    "# 3 = STudents labeled it as water (1), it is permanent water (2)\n",
    "# 2 = DFO labeled it as permanent water (2), students said it wasn't water (0)\n",
    "\n",
    "dfoID1 = df['dfoID'].mean()\n",
    "prec1  = tp / (tp + fp) # Likelihood that pixel labeled flooded was really flooded\n",
    "recall1   = tp / (tp + fn)  # % of flooded pixels it ID'ed correctly\n",
    "acc1 = (tn + tp) / (tn+tp+fp+fn)\n",
    "\n",
    "print(dfoID1, tn, tp, fn,fp)"
   ]
  },
  {
   "cell_type": "code",
   "execution_count": 19,
   "metadata": {},
   "outputs": [
    {
     "name": "stdout",
     "output_type": "stream",
     "text": [
      "163 108 10 34 0.8603174603174604\n"
     ]
    }
   ],
   "source": [
    "df = raw.loc[raw['dfoID']== 2045]\n",
    "\n",
    "#Validation (1) + Strata (4)\n",
    "tp = len(df.loc[df['test']== 5])\n",
    "\n",
    "#Validation (0) + Strata (0)\n",
    "tn = len(df.loc[df['test']== 0])\n",
    "\n",
    "#Validation (0) + Strata (4)\n",
    "fp = len(df.loc[df['test']== 4])\n",
    "\n",
    "#Validation (1) + Strata (0)\n",
    "fn = len(df.loc[df['test']== 1])\n",
    "\n",
    "# 3 = STudents labeled it as water (1), it is permanent water (2)\n",
    "# 2 = DFO labeled it as permanent water (2), students said it wasn't water (0)\n",
    "\n",
    "dfoID2 = df['dfoID'].mean()\n",
    "prec2  = tp / (tp + fp) # Likelihood that pixel labeled flooded was really flooded\n",
    "recall2   = tp / (tp + fn)  # % of flooded pixels it ID'ed correctly\n",
    "acc2 = (tn + tp) / (tn+tp+fp+fn)\n",
    "\n",
    "print(tn, tp, fn,fp, acc2)"
   ]
  },
  {
   "cell_type": "code",
   "execution_count": 20,
   "metadata": {},
   "outputs": [
    {
     "name": "stdout",
     "output_type": "stream",
     "text": [
      "115 231 6 13\n"
     ]
    }
   ],
   "source": [
    "df = raw.loc[raw['dfoID']== 2180]\n",
    "#Validation (1) + Strata (4)\n",
    "tp = len(df.loc[df['test']== 5])\n",
    "#Validation (0) + Strata (0)\n",
    "tn = len(df.loc[df['test']== 0])\n",
    "#Validation (0) + Strata (4)\n",
    "fp = len(df.loc[df['test']== 4])\n",
    "#Validation (1) + Strata (0)\n",
    "fn = len(df.loc[df['test']== 1])\n",
    "\n",
    "# 3 = STudents labeled it as water (1), it is permanent water (2)\n",
    "# 2 = DFO labeled it as permanent water (2), students said it wasn't water (0)\n",
    "\n",
    "dfoID3 = df['dfoID'].mean()\n",
    "prec3  = tp / (tp + fp) # Likelihood that pixel labeled flooded was really flooded\n",
    "recall3   = tp / (tp + fn)  # % of flooded pixels it ID'ed correctly\n",
    "acc3 = (tn + tp) / (tn+tp+fp+fn)\n",
    "\n",
    "print(tn, tp, fn,fp)"
   ]
  },
  {
   "cell_type": "code",
   "execution_count": 22,
   "metadata": {},
   "outputs": [
    {
     "name": "stdout",
     "output_type": "stream",
     "text": [
      "dfoID 2143.0\n",
      "precision 0.98\n",
      "recall 0.9152542372881356\n",
      "overall_accuracy 0.8603174603174604\n"
     ]
    }
   ],
   "source": [
    "print('dfoID', dfoID1)\n",
    "print('precision', prec1)\n",
    "print('recall', recall2)\n",
    "print('overall_accuracy', acc2)"
   ]
  },
  {
   "cell_type": "code",
   "execution_count": 23,
   "metadata": {
    "collapsed": true
   },
   "outputs": [],
   "source": [
    "d = {'dfoID': [dfoID1, dfoID2,dfoID3], \n",
    "     'precision': [prec1,prec2,prec3], \n",
    "     'recall': [recall1,recall2,recall3], \n",
    "     'overall_accuracy': [acc1, acc2, acc3]}\n",
    "df = pd.DataFrame(data=d)"
   ]
  },
  {
   "cell_type": "code",
   "execution_count": 24,
   "metadata": {},
   "outputs": [
    {
     "data": {
      "text/html": [
       "<div>\n",
       "<style scoped>\n",
       "    .dataframe tbody tr th:only-of-type {\n",
       "        vertical-align: middle;\n",
       "    }\n",
       "\n",
       "    .dataframe tbody tr th {\n",
       "        vertical-align: top;\n",
       "    }\n",
       "\n",
       "    .dataframe thead th {\n",
       "        text-align: right;\n",
       "    }\n",
       "</style>\n",
       "<table border=\"1\" class=\"dataframe\">\n",
       "  <thead>\n",
       "    <tr style=\"text-align: right;\">\n",
       "      <th></th>\n",
       "      <th>dfoID</th>\n",
       "      <th>overall_accuracy</th>\n",
       "      <th>precision</th>\n",
       "      <th>recall</th>\n",
       "    </tr>\n",
       "  </thead>\n",
       "  <tbody>\n",
       "    <tr>\n",
       "      <th>0</th>\n",
       "      <td>2143.0</td>\n",
       "      <td>0.981333</td>\n",
       "      <td>0.980000</td>\n",
       "      <td>0.991903</td>\n",
       "    </tr>\n",
       "    <tr>\n",
       "      <th>1</th>\n",
       "      <td>2045.0</td>\n",
       "      <td>0.860317</td>\n",
       "      <td>0.760563</td>\n",
       "      <td>0.915254</td>\n",
       "    </tr>\n",
       "    <tr>\n",
       "      <th>2</th>\n",
       "      <td>2180.0</td>\n",
       "      <td>0.947945</td>\n",
       "      <td>0.946721</td>\n",
       "      <td>0.974684</td>\n",
       "    </tr>\n",
       "  </tbody>\n",
       "</table>\n",
       "</div>"
      ],
      "text/plain": [
       "    dfoID  overall_accuracy  precision    recall\n",
       "0  2143.0          0.981333   0.980000  0.991903\n",
       "1  2045.0          0.860317   0.760563  0.915254\n",
       "2  2180.0          0.947945   0.946721  0.974684"
      ]
     },
     "execution_count": 24,
     "metadata": {},
     "output_type": "execute_result"
    }
   ],
   "source": [
    "df"
   ]
  },
  {
   "cell_type": "code",
   "execution_count": 25,
   "metadata": {},
   "outputs": [
    {
     "data": {
      "text/plain": [
       "<matplotlib.axes._subplots.AxesSubplot at 0x10a9aa860>"
      ]
     },
     "execution_count": 25,
     "metadata": {},
     "output_type": "execute_result"
    },
    {
     "data": {
      "image/png": "[encoded data removed]",
      "text/plain": [
       "<matplotlib.figure.Figure at 0x10a98beb8>"
      ]
     },
     "metadata": {},
     "output_type": "display_data"
    }
   ],
   "source": [
    "def set_style():\n",
    "    plt.style.use(['seaborn-white', 'seaborn-talk'])\n",
    "    plt.rc(\"font\", family=\"Times New Roman\", size = 22)\n",
    "    plt.rc('xtick', labelsize=22) \n",
    "    plt.rc('ytick', labelsize=22) \n",
    "set_style()  \n",
    "\n",
    "\n",
    "df.groupby(['dfoID'])['overall_accuracy'].mean().plot(kind='bar')"
   ]
  },
  {
   "cell_type": "markdown",
   "metadata": {},
   "source": [
    "function psuedocode\n",
    "\n",
    "loop over every ID in the DFO\n",
    "compute these metrics\n",
    "add them to a new dataframe that is indexed by the flood ID"
   ]
  },
  {
   "cell_type": "markdown",
   "metadata": {},
   "source": [
    "## Changing number of sampling points"
   ]
  },
  {
   "cell_type": "code",
   "execution_count": 63,
   "metadata": {},
   "outputs": [
    {
     "data": {
      "text/plain": [
       "count    483.000000\n",
       "mean       0.507448\n",
       "std        0.283408\n",
       "min        0.005719\n",
       "25%        0.250699\n",
       "50%        0.503373\n",
       "75%        0.745883\n",
       "max        0.995431\n",
       "Name: random, dtype: float64"
      ]
     },
     "execution_count": 63,
     "metadata": {},
     "output_type": "execute_result"
    }
   ],
   "source": [
    "df = raw.loc[raw['dfoID']== 2180]\n",
    "df['random'].describe()"
   ]
  },
  {
   "cell_type": "code",
   "execution_count": 64,
   "metadata": {},
   "outputs": [
    {
     "data": {
      "text/html": [
       "<div>\n",
       "<style scoped>\n",
       "    .dataframe tbody tr th:only-of-type {\n",
       "        vertical-align: middle;\n",
       "    }\n",
       "\n",
       "    .dataframe tbody tr th {\n",
       "        vertical-align: top;\n",
       "    }\n",
       "\n",
       "    .dataframe thead th {\n",
       "        text-align: right;\n",
       "    }\n",
       "</style>\n",
       "<table border=\"1\" class=\"dataframe\">\n",
       "  <thead>\n",
       "    <tr style=\"text-align: right;\">\n",
       "      <th>validation</th>\n",
       "      <th>0.0</th>\n",
       "      <th>1.0</th>\n",
       "    </tr>\n",
       "    <tr>\n",
       "      <th>label</th>\n",
       "      <th></th>\n",
       "      <th></th>\n",
       "    </tr>\n",
       "  </thead>\n",
       "  <tbody>\n",
       "    <tr>\n",
       "      <th>0</th>\n",
       "      <td>115</td>\n",
       "      <td>6</td>\n",
       "    </tr>\n",
       "    <tr>\n",
       "      <th>2</th>\n",
       "      <td>29</td>\n",
       "      <td>89</td>\n",
       "    </tr>\n",
       "    <tr>\n",
       "      <th>4</th>\n",
       "      <td>13</td>\n",
       "      <td>231</td>\n",
       "    </tr>\n",
       "  </tbody>\n",
       "</table>\n",
       "</div>"
      ],
      "text/plain": [
       "validation  0.0  1.0\n",
       "label               \n",
       "0           115    6\n",
       "2            29   89\n",
       "4            13  231"
      ]
     },
     "execution_count": 64,
     "metadata": {},
     "output_type": "execute_result"
    }
   ],
   "source": [
    "y_act = df['label'] \n",
    "y_pred = df['validation'] \n",
    "df_confusion = pd.crosstab(y_act, y_pred)\n",
    "df_confusion"
   ]
  },
  {
   "cell_type": "code",
   "execution_count": 65,
   "metadata": {
    "collapsed": true
   },
   "outputs": [],
   "source": [
    "small = 50 \n",
    "medium = 100 \n",
    "large = 200 \n",
    "xlarge = 500 "
   ]
  },
  {
   "cell_type": "code",
   "execution_count": 66,
   "metadata": {},
   "outputs": [
    {
     "data": {
      "text/plain": [
       "483"
      ]
     },
     "execution_count": 66,
     "metadata": {},
     "output_type": "execute_result"
    }
   ],
   "source": [
    "teeny = df.sort_values('random',ascending = False).head(10)\n",
    "len(teeny)\n",
    "small = df.sort_values('random',ascending = False).head(50)\n",
    "len(small)\n",
    "medium = df.sort_values('random',ascending = False).head(100)\n",
    "len(medium)\n",
    "large = df.sort_values('random',ascending = False).head(200)\n",
    "len(large)\n",
    "xlarge = df.sort_values('random',ascending = False)\n",
    "len(xlarge)"
   ]
  },
  {
   "cell_type": "code",
   "execution_count": 67,
   "metadata": {
    "collapsed": true
   },
   "outputs": [],
   "source": [
    "df = teeny\n",
    "\n",
    "#Validation (1) + Strata (4)\n",
    "tp0 = len(df.loc[df['test']== 5])\n",
    "\n",
    "#Validation (0) + Strata (0)\n",
    "tn0 = len(df.loc[df['test']== 0])\n",
    "\n",
    "#Validation (0) + Strata (4)\n",
    "fp0 = len(df.loc[df['test']== 4])\n",
    "\n",
    "#Validation (1) + Strata (0)\n",
    "fn0 = len(df.loc[df['test']== 1])\n",
    "\n",
    "# 3 = STudents labeled it as water (1), it is permanent water (2)\n",
    "# 2 = DFO labeled it as permanent water (2), students said it wasn't water (0)\n",
    "\n",
    "dfoID0 = 10\n",
    "prec0  = tp0 / (tp0 + fp0) # Likelihood that pixel labeled flooded was really flooded\n",
    "recall0   = tp0 / (tp0 + fn0)  # % of flooded pixels it ID'ed correctly\n",
    "acc0 = (tn0 + tp0) / (tn0+tp0+fp0+fn0)"
   ]
  },
  {
   "cell_type": "code",
   "execution_count": 68,
   "metadata": {
    "collapsed": true
   },
   "outputs": [],
   "source": [
    "df = small \n",
    "\n",
    "#Validation (1) + Strata (4)\n",
    "tp1 = len(df.loc[df['test']== 5])\n",
    "\n",
    "#Validation (0) + Strata (0)\n",
    "tn1 = len(df.loc[df['test']== 0])\n",
    "\n",
    "#Validation (0) + Strata (4)\n",
    "fp1 = len(df.loc[df['test']== 4])\n",
    "\n",
    "#Validation (1) + Strata (0)\n",
    "fn1 = len(df.loc[df['test']== 1])\n",
    "\n",
    "# 3 = STudents labeled it as water (1), it is permanent water (2)\n",
    "# 2 = DFO labeled it as permanent water (2), students said it wasn't water (0)\n",
    "\n",
    "dfoID1 = 50\n",
    "prec1  = tp1 / (tp1 + fp1) # Likelihood that pixel labeled flooded was really flooded\n",
    "recall1   = tp1 / (tp1 + fn1)  # % of flooded pixels it ID'ed correctly\n",
    "acc1 = (tn1 + tp1) / (tn1+tp1+fp1+fn1)"
   ]
  },
  {
   "cell_type": "code",
   "execution_count": 69,
   "metadata": {
    "collapsed": true
   },
   "outputs": [],
   "source": [
    "df = medium\n",
    "\n",
    "\n",
    "#Validation (1) + Strata (4)\n",
    "tp2 = len(df.loc[df['test']== 5])\n",
    "\n",
    "#Validation (0) + Strata (0)\n",
    "tn2 = len(df.loc[df['test']== 0])\n",
    "\n",
    "#Validation (0) + Strata (4)\n",
    "fp2 = len(df.loc[df['test']== 4])\n",
    "\n",
    "#Validation (1) + Strata (0)\n",
    "fn2 = len(df.loc[df['test']== 1])\n",
    "\n",
    "# 3 = STudents labeled it as water (1), it is permanent water (2)\n",
    "# 2 = DFO labeled it as permanent water (2), students said it wasn't water (0)\n",
    "\n",
    "dfoID2 = 100\n",
    "prec2  = tp2 / (tp2 + fp2) # Likelihood that pixel labeled flooded was really flooded\n",
    "recall2   = tp2 / (tp2 + fn2)  # % of flooded pixels it ID'ed correctly\n",
    "acc2 = (tn2 + tp2) / (tn2+tp2+fp2+fn2)"
   ]
  },
  {
   "cell_type": "code",
   "execution_count": 70,
   "metadata": {},
   "outputs": [],
   "source": [
    "df = large\n",
    "\n",
    "#Validation (1) + Strata (4)\n",
    "tp3 = len(df.loc[df['test']== 5])\n",
    "#Validation (0) + Strata (0)\n",
    "tn3 = len(df.loc[df['test']== 0])\n",
    "#Validation (0) + Strata (4)\n",
    "fp3 = len(df.loc[df['test']== 4])\n",
    "#Validation (1) + Strata (0)\n",
    "fn3 = len(df.loc[df['test']== 1])\n",
    "\n",
    "# 3 = STudents labeled it as water (1), it is permanent water (2)\n",
    "# 2 = DFO labeled it as permanent water (2), students said it wasn't water (0)\n",
    "\n",
    "dfoID3 = 250\n",
    "prec3  = tp3 / (tp3 + fp3) # Likelihood that pixel labeled flooded was really flooded\n",
    "recall3   = tp3 / (tp3 + fn3)  # % of flooded pixels it ID'ed correctly\n",
    "acc3 = (tn3 + tp3) / (tn3+tp3+fp3+fn3)"
   ]
  },
  {
   "cell_type": "code",
   "execution_count": 71,
   "metadata": {},
   "outputs": [],
   "source": [
    "df = xlarge\n",
    "\n",
    "#Validation (1) + Strata (4)\n",
    "tp4 = len(df.loc[df['test']== 5])\n",
    "#Validation (0) + Strata (0)\n",
    "tn4 = len(df.loc[df['test']== 0])\n",
    "#Validation (0) + Strata (4)\n",
    "fp4 = len(df.loc[df['test']== 4])\n",
    "#Validation (1) + Strata (0)\n",
    "fn4 = len(df.loc[df['test']== 1])\n",
    "\n",
    "# 3 = STudents labeled it as water (1), it is permanent water (2)\n",
    "# 2 = DFO labeled it as permanent water (2), students said it wasn't water (0)\n",
    "\n",
    "dfoID4 = 500\n",
    "prec4  = tp4 / (tp4 + fp4) # Likelihood that pixel labeled flooded was really flooded\n",
    "recall4   = tp4 / (tp4 + fn4)  # % of flooded pixels it ID'ed correctly\n",
    "acc4 = (tn4 + tp4) / (tn4+tp4+fp4+fn4)"
   ]
  },
  {
   "cell_type": "code",
   "execution_count": 72,
   "metadata": {},
   "outputs": [],
   "source": [
    "d = {'dfoID': [dfoID0, dfoID1, dfoID2,dfoID3, dfoID4], \n",
    "     'precision': [prec0, prec1,prec2,prec3, prec4], \n",
    "     'recall': [recall0, recall1,recall2,recall3, recall4], \n",
    "     'overall_accuracy': [acc0,acc1, acc2, acc3, acc4],\n",
    "    'comission': [fp0, fp1, fp2, fp2, fp3],\n",
    "     'omission': [fp0, fn1, fn2, fn3, fn4]}\n",
    "df = pd.DataFrame(data=d)"
   ]
  },
  {
   "cell_type": "code",
   "execution_count": 73,
   "metadata": {},
   "outputs": [],
   "source": [
    "#df_2143 = df\n",
    "#df_2045= df\n",
    "df_2180 = df"
   ]
  },
  {
   "cell_type": "code",
   "execution_count": 62,
   "metadata": {},
   "outputs": [
    {
     "ename": "NameError",
     "evalue": "name 'df_2180' is not defined",
     "output_type": "error",
     "traceback": [
      "\u001b[0;31m---------------------------------------------------------------------------\u001b[0m",
      "\u001b[0;31mNameError\u001b[0m                                 Traceback (most recent call last)",
      "\u001b[0;32m<ipython-input-62-4a5e8f31b199>\u001b[0m in \u001b[0;36m<module>\u001b[0;34m()\u001b[0m\n\u001b[1;32m      1\u001b[0m \u001b[0mx\u001b[0m \u001b[0;34m=\u001b[0m \u001b[0;36m10\u001b[0m\u001b[0;34m,\u001b[0m \u001b[0;36m50\u001b[0m\u001b[0;34m,\u001b[0m \u001b[0;36m100\u001b[0m\u001b[0;34m,\u001b[0m \u001b[0;36m250\u001b[0m\u001b[0;34m,\u001b[0m \u001b[0;36m500\u001b[0m\u001b[0;34m\u001b[0m\u001b[0m\n\u001b[1;32m      2\u001b[0m \u001b[0my1\u001b[0m \u001b[0;34m=\u001b[0m \u001b[0mdf_2045\u001b[0m\u001b[0;34m[\u001b[0m\u001b[0;34m'recall'\u001b[0m\u001b[0;34m]\u001b[0m\u001b[0;34m.\u001b[0m\u001b[0mvalues\u001b[0m\u001b[0;34m\u001b[0m\u001b[0m\n\u001b[0;32m----> 3\u001b[0;31m \u001b[0my2\u001b[0m \u001b[0;34m=\u001b[0m \u001b[0mdf_2180\u001b[0m\u001b[0;34m[\u001b[0m\u001b[0;34m'recall'\u001b[0m\u001b[0;34m]\u001b[0m\u001b[0;34m.\u001b[0m\u001b[0mvalues\u001b[0m\u001b[0;34m\u001b[0m\u001b[0m\n\u001b[0m\u001b[1;32m      4\u001b[0m \u001b[0my3\u001b[0m \u001b[0;34m=\u001b[0m \u001b[0mdf_2143\u001b[0m\u001b[0;34m[\u001b[0m\u001b[0;34m'recall'\u001b[0m\u001b[0;34m]\u001b[0m\u001b[0;34m.\u001b[0m\u001b[0mvalues\u001b[0m\u001b[0;34m\u001b[0m\u001b[0m\n\u001b[1;32m      5\u001b[0m \u001b[0;34m\u001b[0m\u001b[0m\n",
      "\u001b[0;31mNameError\u001b[0m: name 'df_2180' is not defined"
     ]
    }
   ],
   "source": [
    "x = 10, 50, 100, 250, 500\n",
    "y1 = df_2045['recall'].values\n",
    "y2 = df_2180['recall'].values\n",
    "y3 = df_2143['recall'].values\n",
    "\n",
    "plt.plot(x, y1,color='darkred',marker='o', linestyle='--', label='2045')\n",
    "plt.plot(x, y2,color='blue', marker='o', linestyle='--',label='2180')\n",
    "plt.plot(x, y3, color='green', marker='o', linestyle='--',label='2143')\n",
    "\n",
    "plt.legend(title=\"DFO ID\")\n",
    "plt.xlabel('Number of Points')\n",
    "plt.ylabel('Recall')\n",
    "\n",
    "#%cd /Users/ckuhn/Documents/DFO_Accuracy/figures\n",
    "#plt.savefig('point_test_recall.png', dpi = 300)"
   ]
  },
  {
   "cell_type": "code",
   "execution_count": 116,
   "metadata": {},
   "outputs": [
    {
     "ename": "NameError",
     "evalue": "name 'df_2045' is not defined",
     "output_type": "error",
     "traceback": [
      "\u001b[0;31m---------------------------------------------------------------------------\u001b[0m",
      "\u001b[0;31mNameError\u001b[0m                                 Traceback (most recent call last)",
      "\u001b[0;32m<ipython-input-116-200aec6acb82>\u001b[0m in \u001b[0;36m<module>\u001b[0;34m()\u001b[0m\n\u001b[1;32m      1\u001b[0m \u001b[0mx\u001b[0m \u001b[0;34m=\u001b[0m \u001b[0;36m10\u001b[0m\u001b[0;34m,\u001b[0m \u001b[0;36m50\u001b[0m\u001b[0;34m,\u001b[0m \u001b[0;36m100\u001b[0m\u001b[0;34m,\u001b[0m \u001b[0;36m250\u001b[0m\u001b[0;34m,\u001b[0m \u001b[0;36m500\u001b[0m\u001b[0;34m\u001b[0m\u001b[0m\n\u001b[0;32m----> 2\u001b[0;31m \u001b[0my1\u001b[0m \u001b[0;34m=\u001b[0m \u001b[0mdf_2045\u001b[0m\u001b[0;34m[\u001b[0m\u001b[0;34m'precision'\u001b[0m\u001b[0;34m]\u001b[0m\u001b[0;34m.\u001b[0m\u001b[0mvalues\u001b[0m\u001b[0;34m\u001b[0m\u001b[0m\n\u001b[0m\u001b[1;32m      3\u001b[0m \u001b[0my2\u001b[0m \u001b[0;34m=\u001b[0m \u001b[0mdf_2180\u001b[0m\u001b[0;34m[\u001b[0m\u001b[0;34m'precision'\u001b[0m\u001b[0;34m]\u001b[0m\u001b[0;34m.\u001b[0m\u001b[0mvalues\u001b[0m\u001b[0;34m\u001b[0m\u001b[0m\n\u001b[1;32m      4\u001b[0m \u001b[0my3\u001b[0m \u001b[0;34m=\u001b[0m \u001b[0mdf_2143\u001b[0m\u001b[0;34m[\u001b[0m\u001b[0;34m'precision'\u001b[0m\u001b[0;34m]\u001b[0m\u001b[0;34m.\u001b[0m\u001b[0mvalues\u001b[0m\u001b[0;34m\u001b[0m\u001b[0m\n\u001b[1;32m      5\u001b[0m \u001b[0;34m\u001b[0m\u001b[0m\n",
      "\u001b[0;31mNameError\u001b[0m: name 'df_2045' is not defined"
     ]
    }
   ],
   "source": [
    "x = 10, 50, 100, 250, 500\n",
    "y1 = df_2045['precision'].values\n",
    "y2 = df_2180['precision'].values\n",
    "y3 = df_2143['precision'].values\n",
    "\n",
    "plt.plot(x, y1,color='darkred',marker='o', linestyle='--', label='2045')\n",
    "plt.plot(x, y2,color='blue', marker='o', linestyle='--',label='2180')\n",
    "plt.plot(x, y3, color='green', marker='o', linestyle='--',label='2143')\n",
    "\n",
    "#plt.axvline(x=100, color= 'red')\n",
    "\n",
    "\n",
    "plt.legend(title=\"DFO ID\")\n",
    "plt.xlabel('Number of Points')\n",
    "plt.ylabel('Precision')\n",
    "\n",
    "\n",
    "#%cd /Users/ckuhn/Documents/DFO_Accuracy/figures\n",
    "#plt.savefig('point_test_precision.png', dpi = 300)"
   ]
  },
  {
   "cell_type": "code",
   "execution_count": 117,
   "metadata": {},
   "outputs": [
    {
     "ename": "NameError",
     "evalue": "name 'df_2045' is not defined",
     "output_type": "error",
     "traceback": [
      "\u001b[0;31m---------------------------------------------------------------------------\u001b[0m",
      "\u001b[0;31mNameError\u001b[0m                                 Traceback (most recent call last)",
      "\u001b[0;32m<ipython-input-117-377d02b5fa60>\u001b[0m in \u001b[0;36m<module>\u001b[0;34m()\u001b[0m\n\u001b[1;32m      1\u001b[0m \u001b[0mx\u001b[0m \u001b[0;34m=\u001b[0m \u001b[0;36m10\u001b[0m\u001b[0;34m,\u001b[0m \u001b[0;36m50\u001b[0m\u001b[0;34m,\u001b[0m \u001b[0;36m100\u001b[0m\u001b[0;34m,\u001b[0m \u001b[0;36m250\u001b[0m\u001b[0;34m,\u001b[0m \u001b[0;36m500\u001b[0m\u001b[0;34m\u001b[0m\u001b[0m\n\u001b[0;32m----> 2\u001b[0;31m \u001b[0my1\u001b[0m \u001b[0;34m=\u001b[0m \u001b[0mdf_2045\u001b[0m\u001b[0;34m[\u001b[0m\u001b[0;34m'overall_accuracy'\u001b[0m\u001b[0;34m]\u001b[0m\u001b[0;34m.\u001b[0m\u001b[0mvalues\u001b[0m\u001b[0;34m\u001b[0m\u001b[0m\n\u001b[0m\u001b[1;32m      3\u001b[0m \u001b[0my2\u001b[0m \u001b[0;34m=\u001b[0m \u001b[0mdf_2180\u001b[0m\u001b[0;34m[\u001b[0m\u001b[0;34m'overall_accuracy'\u001b[0m\u001b[0;34m]\u001b[0m\u001b[0;34m.\u001b[0m\u001b[0mvalues\u001b[0m\u001b[0;34m\u001b[0m\u001b[0m\n\u001b[1;32m      4\u001b[0m \u001b[0my3\u001b[0m \u001b[0;34m=\u001b[0m \u001b[0mdf_2143\u001b[0m\u001b[0;34m[\u001b[0m\u001b[0;34m'overall_accuracy'\u001b[0m\u001b[0;34m]\u001b[0m\u001b[0;34m.\u001b[0m\u001b[0mvalues\u001b[0m\u001b[0;34m\u001b[0m\u001b[0m\n\u001b[1;32m      5\u001b[0m \u001b[0;34m\u001b[0m\u001b[0m\n",
      "\u001b[0;31mNameError\u001b[0m: name 'df_2045' is not defined"
     ]
    }
   ],
   "source": [
    "x = 10, 50, 100, 250, 500\n",
    "y1 = df_2045['overall_accuracy'].values\n",
    "y2 = df_2180['overall_accuracy'].values\n",
    "y3 = df_2143['overall_accuracy'].values\n",
    "\n",
    "plt.plot(x, y1,color='darkred',marker='o', linestyle='--', label='2045')\n",
    "plt.plot(x, y2,color='blue', marker='o', linestyle='--',label='2180')\n",
    "plt.plot(x, y3, color='green', marker='o', linestyle='--',label='2143')\n",
    "\n",
    "plt.legend(title=\"DFO ID\")\n",
    "plt.xlabel('Number of Points')\n",
    "plt.ylabel('Overall Accuracy (&)')\n",
    "\n",
    "\n",
    "#%cd /Users/ckuhn/Documents/DFO_Accuracy/figures\n",
    "#plt.savefig('point_test_overallacc.png', dpi = 300)"
   ]
  },
  {
   "cell_type": "code",
   "execution_count": null,
   "metadata": {
    "collapsed": true
   },
   "outputs": [],
   "source": []
  }
 ],
 "metadata": {
  "kernelspec": {
   "display_name": "Python [conda env:vectorenv]",
   "language": "python",
   "name": "conda-env-vectorenv-py"
  },
  "language_info": {
   "codemirror_mode": {
    "name": "ipython",
    "version": 3
   },
   "file_extension": ".py",
   "mimetype": "text/x-python",
   "name": "python",
   "nbconvert_exporter": "python",
   "pygments_lexer": "ipython3",
   "version": "3.6.4"
  }
 },
 "nbformat": 4,
 "nbformat_minor": 2
}
